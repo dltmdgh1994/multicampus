{
 "cells": [
  {
   "cell_type": "markdown",
   "metadata": {},
   "source": [
    "# json 불러오기"
   ]
  },
  {
   "cell_type": "code",
   "execution_count": 25,
   "metadata": {},
   "outputs": [],
   "source": [
    "import json\n",
    "\n",
    "# images => file_name, id\n",
    "# annotations => segmentation, category_id, image_id, id\n",
    "# categories => id, name\n",
    "\n",
    "with open('C:/Users/s_csmscox/jupyterSave/dacon/train.json', 'r') as f:\n",
    "\n",
    "    json_data = json.load(f)"
   ]
  },
  {
   "cell_type": "code",
   "execution_count": 6,
   "metadata": {
    "scrolled": true
   },
   "outputs": [
    {
     "data": {
      "text/plain": [
       "{'segmentation': [[462.152,\n",
       "   86.8861,\n",
       "   439.184,\n",
       "   65.9153,\n",
       "   413.22,\n",
       "   26.9694,\n",
       "   383.262,\n",
       "   38.9528,\n",
       "   366.286,\n",
       "   52.9333,\n",
       "   348.311,\n",
       "   81.893,\n",
       "   336.327,\n",
       "   111.851,\n",
       "   327.34,\n",
       "   142.808,\n",
       "   324.344,\n",
       "   179.757,\n",
       "   327.34,\n",
       "   227.69,\n",
       "   338.325,\n",
       "   258.647,\n",
       "   356.3,\n",
       "   276.622,\n",
       "   385.259,\n",
       "   440.394,\n",
       "   369.282,\n",
       "   533.265,\n",
       "   356.3,\n",
       "   593.182,\n",
       "   388.255,\n",
       "   622.142,\n",
       "   434.191,\n",
       "   625.137,\n",
       "   476.133,\n",
       "   625.137,\n",
       "   478.13,\n",
       "   596.178,\n",
       "   488.116,\n",
       "   581.199,\n",
       "   502.097,\n",
       "   595.179,\n",
       "   524.066,\n",
       "   612.156,\n",
       "   553.026,\n",
       "   619.146,\n",
       "   568.005,\n",
       "   612.156,\n",
       "   584.982,\n",
       "   322.558,\n",
       "   574.995,\n",
       "   283.612,\n",
       "   569.004,\n",
       "   239.674,\n",
       "   612.943,\n",
       "   190.742,\n",
       "   605.952,\n",
       "   149.799,\n",
       "   595.966,\n",
       "   113.849,\n",
       "   560.016,\n",
       "   46.9417,\n",
       "   528.061,\n",
       "   32.9611,\n",
       "   478.13,\n",
       "   9.99304,\n",
       "   484.122,\n",
       "   56.9278,\n",
       "   482.125,\n",
       "   76.9]],\n",
       " 'area': 177120,\n",
       " 'category_id': 20,\n",
       " 'bbox': [323.844, 9.49304, 288, 615],\n",
       " 'image_id': 264208,\n",
       " 'iscrowd': 0,\n",
       " 'id': 2}"
      ]
     },
     "execution_count": 6,
     "metadata": {},
     "output_type": "execute_result"
    }
   ],
   "source": [
    "json_data['annotations'][1]"
   ]
  },
  {
   "cell_type": "code",
   "execution_count": 26,
   "metadata": {},
   "outputs": [
    {
     "data": {
      "text/plain": [
       "[{'id': 1, 'name': 'top', 'supercategory': '상의'},\n",
       " {'id': 2, 'name': 'blouse', 'supercategory': '상의'},\n",
       " {'id': 3, 'name': 't-shirt', 'supercategory': '상의'},\n",
       " {'id': 4, 'name': 'Knitted fabri', 'supercategory': '상의'},\n",
       " {'id': 5, 'name': 'shirt', 'supercategory': '상의'},\n",
       " {'id': 6, 'name': 'bra top', 'supercategory': '상의'},\n",
       " {'id': 7, 'name': 'hood', 'supercategory': '상의'},\n",
       " {'id': 8, 'name': 'blue jeans', 'supercategory': '하의'},\n",
       " {'id': 9, 'name': 'pants', 'supercategory': '하의'},\n",
       " {'id': 10, 'name': 'skirt', 'supercategory': '하의'},\n",
       " {'id': 11, 'name': 'leggings', 'supercategory': '하의'},\n",
       " {'id': 12, 'name': 'jogger pants', 'supercategory': '하의'},\n",
       " {'id': 13, 'name': 'coat', 'supercategory': '아우터'},\n",
       " {'id': 14, 'name': 'jacket', 'supercategory': '아우터'},\n",
       " {'id': 15, 'name': 'jumper', 'supercategory': '아우터'},\n",
       " {'id': 16, 'name': 'padding jacket', 'supercategory': '아우터'},\n",
       " {'id': 17, 'name': 'best', 'supercategory': '아우터'},\n",
       " {'id': 18, 'name': 'kadigan', 'supercategory': '아우터'},\n",
       " {'id': 19, 'name': 'zip up', 'supercategory': '아우터'},\n",
       " {'id': 20, 'name': 'dress', 'supercategory': '원피스'},\n",
       " {'id': 21, 'name': 'jumpsuit', 'supercategory': '원피스'}]"
      ]
     },
     "execution_count": 26,
     "metadata": {},
     "output_type": "execute_result"
    }
   ],
   "source": [
    "json_data['categories']"
   ]
  },
  {
   "cell_type": "code",
   "execution_count": 27,
   "metadata": {},
   "outputs": [
    {
     "name": "stdout",
     "output_type": "stream",
     "text": [
      "95454\n",
      "112668\n"
     ]
    }
   ],
   "source": [
    "print(len(json_data['images']))\n",
    "print(len(json_data['annotations']))"
   ]
  },
  {
   "cell_type": "markdown",
   "metadata": {},
   "source": [
    "# train 이미지 범주에 따라 나누기"
   ]
  },
  {
   "cell_type": "code",
   "execution_count": 27,
   "metadata": {},
   "outputs": [],
   "source": [
    "import pandas as pd\n",
    "\n",
    "s = ''\n",
    "re = []\n",
    "\n",
    "for i in json_data['annotations']:\n",
    "    if s == i['image_id']:\n",
    "        re.append(s)\n",
    "        \n",
    "    s = i['image_id']\n",
    "        \n",
    "image_id = []\n",
    "category_id = []\n",
    "file_name = []\n",
    "data_dict = dict()\n",
    "        \n",
    "for i in json_data['annotations']:\n",
    "    if i['image_id'] not in re:\n",
    "        image_id.append(i['image_id'])\n",
    "        category_id.append(i['category_id'])\n",
    "\n",
    "for i in json_data['images']:\n",
    "    if i['id'] in image_id:\n",
    "        file_name.append(i['file_name'])\n",
    "        \n",
    "data_dict['image_id'] = image_id\n",
    "data_dict['category_id'] = category_id\n",
    "data_dict['file_name'] = file_name\n",
    "\n",
    "df = pd.DataFrame(data_dict)"
   ]
  },
  {
   "cell_type": "code",
   "execution_count": 32,
   "metadata": {},
   "outputs": [],
   "source": [
    "import shutil\n",
    "\n",
    "dst = 'C:/Users/s_csmscox/jupyterSave/dacon/train/'\n",
    "\n",
    "for file_name, category_id  in zip(data_dict['file_name'], data_dict['category_id']):\n",
    "    head = file_name[0]\n",
    "    src = 'C:/Users/s_csmscox/jupyterSave/dacon/train_kFashion/' + head + '/' + file_name\n",
    "    shutil.copy(src, (dst + str(category_id - 1) + '/'))\n",
    "    "
   ]
  },
  {
   "cell_type": "markdown",
   "metadata": {},
   "source": [
    "# test 이미지 모으기"
   ]
  },
  {
   "cell_type": "code",
   "execution_count": 34,
   "metadata": {},
   "outputs": [],
   "source": [
    "import json\n",
    "\n",
    "# images => file_name, id\n",
    "# categories => id, name\n",
    "\n",
    "with open('C:/Users/s_csmscox/jupyterSave/dacon/test_pubilc.json', 'r') as f:\n",
    "\n",
    "    json_data = json.load(f)"
   ]
  },
  {
   "cell_type": "code",
   "execution_count": 39,
   "metadata": {},
   "outputs": [],
   "source": [
    "import pandas as pd\n",
    "import shutil\n",
    "\n",
    "file_name = []\n",
    "\n",
    "for i in json_data['images']:\n",
    "    file_name.append(i['file_name'])\n",
    "    \n",
    "dst = 'C:/Users/s_csmscox/jupyterSave/dacon/test/'\n",
    "        \n",
    "for i in file_name:\n",
    "    head = i[0]\n",
    "    src = 'C:/Users/s_csmscox/jupyterSave/dacon/test_kFashion/' + head + '/' + i\n",
    "    shutil.copy(src, dst)"
   ]
  }
 ],
 "metadata": {
  "kernelspec": {
   "display_name": "Python 3",
   "language": "python",
   "name": "python3"
  },
  "language_info": {
   "codemirror_mode": {
    "name": "ipython",
    "version": 3
   },
   "file_extension": ".py",
   "mimetype": "text/x-python",
   "name": "python",
   "nbconvert_exporter": "python",
   "pygments_lexer": "ipython3",
   "version": "3.8.5"
  }
 },
 "nbformat": 4,
 "nbformat_minor": 4
}
