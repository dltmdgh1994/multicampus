{
 "cells": [
  {
   "cell_type": "markdown",
   "metadata": {},
   "source": [
    "# ground_truth files 생성"
   ]
  },
  {
   "cell_type": "code",
   "execution_count": 1,
   "metadata": {},
   "outputs": [
    {
     "data": {
      "text/plain": [
       "'w08v6c5itw.xml'"
      ]
     },
     "execution_count": 1,
     "metadata": {},
     "output_type": "execute_result"
    }
   ],
   "source": [
    "# 디렉토리 내 파일리스트 읽어오기\n",
    "\n",
    "import os\n",
    " \n",
    "path_dir = 'C:/Users/s_csmscox/jupyterSave/kFashion/dacon/test/tiny_annotations'\n",
    " \n",
    "file_list = os.listdir(path_dir)\n",
    "\n",
    "file_list[0]"
   ]
  },
  {
   "cell_type": "code",
   "execution_count": 2,
   "metadata": {},
   "outputs": [
    {
     "data": {
      "text/plain": [
       "'C:\\\\Users\\\\s_csmscox\\\\jupyterSave\\\\kFashion\\\\dacon\\\\test'"
      ]
     },
     "execution_count": 2,
     "metadata": {},
     "output_type": "execute_result"
    }
   ],
   "source": [
    "# 현재 경로 바꾸기\n",
    "\n",
    "os.chdir('C:/Users/s_csmscox/jupyterSave/kFashion/dacon/test')\n",
    "os.getcwd()"
   ]
  },
  {
   "cell_type": "code",
   "execution_count": 3,
   "metadata": {},
   "outputs": [],
   "source": [
    "# xml -> txt\n",
    "\n",
    "from xml.etree.ElementTree import parse\n",
    "\n",
    "for fname in file_list:\n",
    "    \n",
    "    tree = parse('tiny_annotations/' + fname)\n",
    "    root = tree.getroot()\n",
    "    \n",
    "    f = open('ground-truth/' + fname[:-4] + '.txt', 'w')\n",
    "    \n",
    "    for obj in root.findall('object'):\n",
    "        ground_truth = ''\n",
    "        ground_truth += obj.find('name').text\n",
    "        \n",
    "        bbox = obj.find('bndbox')\n",
    "        # <class_name> <left> <top> <right> <bottom>\n",
    "        ground_truth = ground_truth + ' ' + bbox.find('xmin').text + ' ' + bbox.find('ymin').text + ' ' + bbox.find('xmax').text + ' ' + bbox.find('ymax').text + '\\n'\n",
    "        \n",
    "        f.write(ground_truth)\n",
    "   \n",
    "    f.close()\n"
   ]
  },
  {
   "cell_type": "markdown",
   "metadata": {},
   "source": [
    "# object_detections file 만들기"
   ]
  },
  {
   "cell_type": "code",
   "execution_count": 1,
   "metadata": {},
   "outputs": [
    {
     "data": {
      "text/plain": [
       "'C:\\\\Users\\\\s_csmscox\\\\jupyterSave\\\\kFashion\\\\dacon\\\\darkflow'"
      ]
     },
     "execution_count": 1,
     "metadata": {},
     "output_type": "execute_result"
    }
   ],
   "source": [
    "import os\n",
    "\n",
    "os.chdir('C:/Users/s_csmscox/jupyterSave/kFashion/dacon/darkflow')\n",
    "os.getcwd()"
   ]
  },
  {
   "cell_type": "code",
   "execution_count": 5,
   "metadata": {},
   "outputs": [
    {
     "name": "stdout",
     "output_type": "stream",
     "text": [
      "Parsing cfg/my-tiny-yolo.cfg\n",
      "Loading None ...\n",
      "Finished in 0.0s\n",
      "\n",
      "Building net ...\n",
      "Source | Train? | Layer description                | Output size\n",
      "-------+--------+----------------------------------+---------------\n",
      "       |        | input                            | (?, 416, 416, 3)\n",
      " Init  |  Yep!  | conv 3x3p1_1  +bnorm  leaky      | (?, 416, 416, 16)\n",
      " Load  |  Yep!  | maxp 2x2p0_2                     | (?, 208, 208, 16)\n",
      " Init  |  Yep!  | conv 3x3p1_1  +bnorm  leaky      | (?, 208, 208, 32)\n",
      " Load  |  Yep!  | maxp 2x2p0_2                     | (?, 104, 104, 32)\n",
      " Init  |  Yep!  | conv 3x3p1_1  +bnorm  leaky      | (?, 104, 104, 64)\n",
      " Load  |  Yep!  | maxp 2x2p0_2                     | (?, 52, 52, 64)\n",
      " Init  |  Yep!  | conv 3x3p1_1  +bnorm  leaky      | (?, 52, 52, 128)\n",
      " Load  |  Yep!  | maxp 2x2p0_2                     | (?, 26, 26, 128)\n",
      " Init  |  Yep!  | conv 3x3p1_1  +bnorm  leaky      | (?, 26, 26, 256)\n",
      " Load  |  Yep!  | maxp 2x2p0_2                     | (?, 13, 13, 256)\n",
      " Init  |  Yep!  | conv 3x3p1_1  +bnorm  leaky      | (?, 13, 13, 512)\n",
      " Load  |  Yep!  | maxp 2x2p0_1                     | (?, 13, 13, 512)\n",
      " Init  |  Yep!  | conv 3x3p1_1  +bnorm  leaky      | (?, 13, 13, 1024)\n",
      " Init  |  Yep!  | conv 3x3p1_1  +bnorm  leaky      | (?, 13, 13, 1024)\n",
      " Init  |  Yep!  | conv 1x1p0_1    linear           | (?, 13, 13, 130)\n",
      "-------+--------+----------------------------------+---------------\n",
      "Running entirely on CPU\n",
      "Loading from ./ckpt/my-tiny-yolo-100135\n",
      "INFO:tensorflow:Restoring parameters from ./ckpt/my-tiny-yolo-100135\n",
      "Finished in 1.7548744678497314s\n",
      "\n"
     ]
    }
   ],
   "source": [
    "# yolov2를 이용해 object detection\n",
    "\n",
    "from darkflow.net.build import TFNet\n",
    "import tensorflow as tf\n",
    "import cv2\n",
    "\n",
    "options = {\"model\": \"cfg/my-tiny-yolo.cfg\", \"load\": 100135, \"threshold\": 0.1}\n",
    "\n",
    "tfnet = TFNet(options)"
   ]
  },
  {
   "cell_type": "code",
   "execution_count": 6,
   "metadata": {},
   "outputs": [],
   "source": [
    "path_dir = 'C:/Users/s_csmscox/jupyterSave/kFashion/dacon/test/tiny_dataset'\n",
    " \n",
    "file_list = os.listdir(path_dir)\n",
    "\n",
    "for fname in file_list:\n",
    "    imgcv = cv2.imread('../test/tiny_dataset/' + fname)\n",
    "\n",
    "    results = tfnet.return_predict(imgcv)\n",
    "    \n",
    "    f = open('../test/detection-results/' + fname[:-4] + '.txt', 'w')\n",
    "    \n",
    "    for result in results:\n",
    "        # <class_name> <confidence> <left> <top> <right> <bottom>\n",
    "        detection_result = result['label'] + ' ' \\\n",
    "                + str(result['confidence']) + ' ' \\\n",
    "                + str(result['topleft']['x']) + ' ' \\\n",
    "                + str(result['topleft']['y']) + ' ' \\\n",
    "                + str(result['bottomright']['x']) + ' ' \\\n",
    "                + str(result['bottomright']['y']) + '\\n'\n",
    "                \n",
    "        f.write(detection_result)\n",
    "   \n",
    "    f.close()\n",
    "            "
   ]
  },
  {
   "cell_type": "markdown",
   "metadata": {},
   "source": [
    "# Acc 측정"
   ]
  },
  {
   "cell_type": "code",
   "execution_count": 7,
   "metadata": {},
   "outputs": [],
   "source": [
    "import os\n",
    "from xml.etree.ElementTree import parse\n",
    "\n",
    "os.chdir('C:/Users/s_csmscox/jupyterSave/kFashion/dacon/test')\n",
    "\n",
    "path_dir = 'C:/Users/s_csmscox/jupyterSave/kFashion/dacon/test/tiny_annotations'\n",
    " \n",
    "file_list = os.listdir(path_dir)\n",
    "\n",
    "ground = []\n",
    "\n",
    "for fname in file_list:\n",
    "    \n",
    "    tree = parse('tiny_annotations/' + fname)\n",
    "    root = tree.getroot()\n",
    "    \n",
    "    ground_truth = []\n",
    "    for obj in root.findall('object'):\n",
    "        ground_truth.append(obj.find('name').text)\n",
    "    \n",
    "    ground.append(ground_truth)"
   ]
  },
  {
   "cell_type": "code",
   "execution_count": 2,
   "metadata": {},
   "outputs": [
    {
     "name": "stdout",
     "output_type": "stream",
     "text": [
      "WARNING:tensorflow:\n",
      "The TensorFlow contrib module will not be included in TensorFlow 2.0.\n",
      "For more information, please see:\n",
      "  * https://github.com/tensorflow/community/blob/master/rfcs/20180907-contrib-sunset.md\n",
      "  * https://github.com/tensorflow/addons\n",
      "  * https://github.com/tensorflow/io (for I/O related ops)\n",
      "If you depend on functionality not listed there, please file an issue.\n",
      "\n",
      "WARNING:tensorflow:From C:\\Users\\s_csmscox\\Anaconda3\\envs\\tf1\\lib\\site-packages\\darkflow\\net\\build.py:15: The name tf.train.RMSPropOptimizer is deprecated. Please use tf.compat.v1.train.RMSPropOptimizer instead.\n",
      "\n",
      "WARNING:tensorflow:From C:\\Users\\s_csmscox\\Anaconda3\\envs\\tf1\\lib\\site-packages\\darkflow\\net\\build.py:16: The name tf.train.AdadeltaOptimizer is deprecated. Please use tf.compat.v1.train.AdadeltaOptimizer instead.\n",
      "\n",
      "WARNING:tensorflow:From C:\\Users\\s_csmscox\\Anaconda3\\envs\\tf1\\lib\\site-packages\\darkflow\\net\\build.py:17: The name tf.train.AdagradOptimizer is deprecated. Please use tf.compat.v1.train.AdagradOptimizer instead.\n",
      "\n",
      "WARNING:tensorflow:From C:\\Users\\s_csmscox\\Anaconda3\\envs\\tf1\\lib\\site-packages\\darkflow\\net\\build.py:18: The name tf.train.AdagradDAOptimizer is deprecated. Please use tf.compat.v1.train.AdagradDAOptimizer instead.\n",
      "\n",
      "WARNING:tensorflow:From C:\\Users\\s_csmscox\\Anaconda3\\envs\\tf1\\lib\\site-packages\\darkflow\\net\\build.py:19: The name tf.train.MomentumOptimizer is deprecated. Please use tf.compat.v1.train.MomentumOptimizer instead.\n",
      "\n",
      "WARNING:tensorflow:From C:\\Users\\s_csmscox\\Anaconda3\\envs\\tf1\\lib\\site-packages\\darkflow\\net\\build.py:20: The name tf.train.AdamOptimizer is deprecated. Please use tf.compat.v1.train.AdamOptimizer instead.\n",
      "\n",
      "WARNING:tensorflow:From C:\\Users\\s_csmscox\\Anaconda3\\envs\\tf1\\lib\\site-packages\\darkflow\\net\\build.py:21: The name tf.train.FtrlOptimizer is deprecated. Please use tf.compat.v1.train.FtrlOptimizer instead.\n",
      "\n",
      "WARNING:tensorflow:From C:\\Users\\s_csmscox\\Anaconda3\\envs\\tf1\\lib\\site-packages\\darkflow\\net\\build.py:22: The name tf.train.GradientDescentOptimizer is deprecated. Please use tf.compat.v1.train.GradientDescentOptimizer instead.\n",
      "\n",
      "Parsing cfg/my-tiny-yolo.cfg\n",
      "Loading None ...\n",
      "Finished in 0.0s\n",
      "\n",
      "Building net ...\n",
      "WARNING:tensorflow:From C:\\Users\\s_csmscox\\Anaconda3\\envs\\tf1\\lib\\site-packages\\darkflow\\net\\build.py:105: The name tf.placeholder is deprecated. Please use tf.compat.v1.placeholder instead.\n",
      "\n",
      "Source | Train? | Layer description                | Output size\n",
      "-------+--------+----------------------------------+---------------\n",
      "WARNING:tensorflow:From C:\\Users\\s_csmscox\\Anaconda3\\envs\\tf1\\lib\\site-packages\\darkflow\\net\\ops\\baseop.py:70: The name tf.variable_scope is deprecated. Please use tf.compat.v1.variable_scope instead.\n",
      "\n",
      "WARNING:tensorflow:From C:\\Users\\s_csmscox\\Anaconda3\\envs\\tf1\\lib\\site-packages\\darkflow\\net\\ops\\baseop.py:71: The name tf.get_variable is deprecated. Please use tf.compat.v1.get_variable instead.\n",
      "\n",
      "WARNING:tensorflow:From C:\\Users\\s_csmscox\\Anaconda3\\envs\\tf1\\lib\\site-packages\\darkflow\\net\\ops\\baseop.py:84: The name tf.placeholder_with_default is deprecated. Please use tf.compat.v1.placeholder_with_default instead.\n",
      "\n",
      "       |        | input                            | (?, 416, 416, 3)\n",
      " Init  |  Yep!  | conv 3x3p1_1  +bnorm  leaky      | (?, 416, 416, 16)\n",
      "WARNING:tensorflow:From C:\\Users\\s_csmscox\\Anaconda3\\envs\\tf1\\lib\\site-packages\\darkflow\\net\\ops\\simple.py:106: The name tf.nn.max_pool is deprecated. Please use tf.nn.max_pool2d instead.\n",
      "\n",
      " Load  |  Yep!  | maxp 2x2p0_2                     | (?, 208, 208, 16)\n",
      " Init  |  Yep!  | conv 3x3p1_1  +bnorm  leaky      | (?, 208, 208, 32)\n",
      " Load  |  Yep!  | maxp 2x2p0_2                     | (?, 104, 104, 32)\n",
      " Init  |  Yep!  | conv 3x3p1_1  +bnorm  leaky      | (?, 104, 104, 64)\n",
      " Load  |  Yep!  | maxp 2x2p0_2                     | (?, 52, 52, 64)\n",
      " Init  |  Yep!  | conv 3x3p1_1  +bnorm  leaky      | (?, 52, 52, 128)\n",
      " Load  |  Yep!  | maxp 2x2p0_2                     | (?, 26, 26, 128)\n",
      " Init  |  Yep!  | conv 3x3p1_1  +bnorm  leaky      | (?, 26, 26, 256)\n",
      " Load  |  Yep!  | maxp 2x2p0_2                     | (?, 13, 13, 256)\n",
      " Init  |  Yep!  | conv 3x3p1_1  +bnorm  leaky      | (?, 13, 13, 512)\n",
      " Load  |  Yep!  | maxp 2x2p0_1                     | (?, 13, 13, 512)\n",
      " Init  |  Yep!  | conv 3x3p1_1  +bnorm  leaky      | (?, 13, 13, 1024)\n",
      " Init  |  Yep!  | conv 3x3p1_1  +bnorm  leaky      | (?, 13, 13, 1024)\n",
      " Init  |  Yep!  | conv 1x1p0_1    linear           | (?, 13, 13, 130)\n",
      "-------+--------+----------------------------------+---------------\n",
      "Running entirely on CPU\n",
      "WARNING:tensorflow:From C:\\Users\\s_csmscox\\Anaconda3\\envs\\tf1\\lib\\site-packages\\darkflow\\net\\build.py:145: The name tf.Session is deprecated. Please use tf.compat.v1.Session instead.\n",
      "\n",
      "WARNING:tensorflow:From C:\\Users\\s_csmscox\\Anaconda3\\envs\\tf1\\lib\\site-packages\\darkflow\\net\\build.py:145: The name tf.ConfigProto is deprecated. Please use tf.compat.v1.ConfigProto instead.\n",
      "\n",
      "WARNING:tensorflow:From C:\\Users\\s_csmscox\\Anaconda3\\envs\\tf1\\lib\\site-packages\\darkflow\\net\\build.py:146: The name tf.global_variables_initializer is deprecated. Please use tf.compat.v1.global_variables_initializer instead.\n",
      "\n",
      "WARNING:tensorflow:From C:\\Users\\s_csmscox\\Anaconda3\\envs\\tf1\\lib\\site-packages\\darkflow\\net\\build.py:149: The name tf.train.Saver is deprecated. Please use tf.compat.v1.train.Saver instead.\n",
      "\n",
      "WARNING:tensorflow:From C:\\Users\\s_csmscox\\Anaconda3\\envs\\tf1\\lib\\site-packages\\darkflow\\net\\build.py:149: The name tf.global_variables is deprecated. Please use tf.compat.v1.global_variables instead.\n",
      "\n",
      "Loading from ./ckpt/my-tiny-yolo-100135\n",
      "INFO:tensorflow:Restoring parameters from ./ckpt/my-tiny-yolo-100135\n",
      "Finished in 1.6251866817474365s\n",
      "\n"
     ]
    }
   ],
   "source": [
    "from darkflow.net.build import TFNet\n",
    "import tensorflow as tf\n",
    "import cv2\n",
    "\n",
    "os.chdir('C:/Users/s_csmscox/jupyterSave/kFashion/dacon/darkflow')\n",
    "\n",
    "options = {\"model\": \"cfg/my-tiny-yolo.cfg\", \"load\": 100135, \"threshold\": 0.1}\n",
    "\n",
    "tfnet = TFNet(options)"
   ]
  },
  {
   "cell_type": "code",
   "execution_count": 8,
   "metadata": {},
   "outputs": [],
   "source": [
    "path_dir = 'C:/Users/s_csmscox/jupyterSave/kFashion/dacon/test/tiny_dataset'\n",
    " \n",
    "file_list = os.listdir(path_dir)\n",
    "\n",
    "detection = []\n",
    "\n",
    "for fname in file_list:\n",
    "    imgcv = cv2.imread('../test/tiny_dataset/' + fname)\n",
    "\n",
    "    results = tfnet.return_predict(imgcv)\n",
    "    \n",
    "    detection_result = []\n",
    "    \n",
    "    for result in results:\n",
    "        detection_result.append(result['label'])\n",
    "    \n",
    "    detection.append(detection_result)"
   ]
  },
  {
   "cell_type": "code",
   "execution_count": 9,
   "metadata": {},
   "outputs": [
    {
     "name": "stdout",
     "output_type": "stream",
     "text": [
      "Acc : 0.35\n"
     ]
    }
   ],
   "source": [
    "# ACC 측정\n",
    "\n",
    "cnt = 0\n",
    "\n",
    "for test, pred in zip(ground, detection):\n",
    "    \n",
    "    flag = False\n",
    "    \n",
    "    for t, p in zip(test, pred):\n",
    "        if(t != p):\n",
    "            flag = True\n",
    "    \n",
    "    if(flag == False):\n",
    "        cnt += 1\n",
    "\n",
    "print(\"Acc : \" + str(cnt/(len(detection))))"
   ]
  }
 ],
 "metadata": {
  "kernelspec": {
   "display_name": "tf1",
   "language": "python",
   "name": "tf1"
  },
  "language_info": {
   "codemirror_mode": {
    "name": "ipython",
    "version": 3
   },
   "file_extension": ".py",
   "mimetype": "text/x-python",
   "name": "python",
   "nbconvert_exporter": "python",
   "pygments_lexer": "ipython3",
   "version": "3.7.10"
  }
 },
 "nbformat": 4,
 "nbformat_minor": 4
}
