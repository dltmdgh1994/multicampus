{
 "cells": [
  {
   "cell_type": "code",
   "execution_count": 3,
   "metadata": {},
   "outputs": [],
   "source": [
    "import numpy as np\n",
    "import pandas as pd\n",
    "import matplotlib.pyplot as plt\n",
    "import tensorflow as tf\n",
    "from PIL import Image\n",
    "from sklearn.preprocessing import MinMaxScaler\n",
    "from sklearn.model_selection import KFold\n",
    "from tensorflow.keras.utils import to_categorical\n",
    "\n",
    "#train = pd.read_csv('C:/Users/s_csmscox/jupyterSave/digital_train.csv')\n",
    "#test = pd.read_csv('C:/Users/s_csmscox/jupyterSave/digital_test.csv')"
   ]
  },
  {
   "cell_type": "code",
   "execution_count": null,
   "metadata": {},
   "outputs": [],
   "source": [
    "train_label = train['label']\n",
    "train.drop(['label'], axis=1, inplace=True)\n",
    "\n",
    "# 정규화\n",
    "scaler_train = MinMaxScaler()\n",
    "scaler_train.fit(train)\n",
    "x_data_train_norm = scaler_train.transform(train)\n",
    "\n",
    "scaler_test = MinMaxScaler()\n",
    "scaler_test.fit(test)\n",
    "x_data_test_norm = scaler_test.transform(test)\n",
    "\n",
    "#one hot encoding\n",
    "t_data_train_onehot = to_categorical(train_label)"
   ]
  },
  {
   "cell_type": "code",
   "execution_count": null,
   "metadata": {},
   "outputs": [],
   "source": [
    "from tensorflow.keras.models import Sequential\n",
    "from tensorflow.keras.layers import Flatten, Dense, Dropout\n",
    "from tensorflow.keras.optimizers import SGD, Adam\n",
    "\n",
    "model = Sequential()\n",
    "model.add(Flatten(input_shape=(784,)))\n",
    "model.add(Dense(512,activation='relu'))\n",
    "model.add(Dropout(0.3))\n",
    "model.add(Dense(512,activation='relu'))\n",
    "model.add(Dropout(0.3))\n",
    "model.add(Dense(512,activation='relu'))\n",
    "model.add(Dropout(0.3))\n",
    "model.add(Dense(512,activation='relu'))\n",
    "model.add(Dense(10,activation='softmax'))\n",
    "# loss가 'categorical_crossentropy' => onehot 인코딩 필요\n",
    "# loss가 'sparse_categorical_crossentropy' => onehot 인코딩 불필요\n",
    "model.compile(optimizer=Adam(learning_rate=1e-2), loss='categorical_crossentropy',\n",
    "                metrics=['accuracy'])\n",
    "\n",
    "history = model.fit(x_data_train_norm, t_data_train_onehot, epochs=200, verbose=1,\n",
    "                   validation_split=0.3, batch_size=10000)"
   ]
  },
  {
   "cell_type": "code",
   "execution_count": null,
   "metadata": {},
   "outputs": [],
   "source": [
    "plt.plot(history.history['accuracy'], color='r')\n",
    "plt.plot(history.history['loss'], color='b')\n",
    "plt.show()"
   ]
  },
  {
   "cell_type": "code",
   "execution_count": null,
   "metadata": {},
   "outputs": [],
   "source": [
    "# 공식을 이용해서 직접 img를 흑백처리\n",
    "\n",
    "img = np.asarray(Image.open('7.png'))\n",
    "\n",
    "# 그레이 스케일링\n",
    "r = 0.2989\n",
    "g = 0.5870\n",
    "b = 0.1140\n",
    "gray = img[:, :, 0] * r + img[:, :, 1] * g + img[:, :, 2] * b\n",
    "img = Image.fromarray(gray)\n",
    "\n",
    "# 사이즈 조절\n",
    "img = img.resize((28,28))\n",
    "\n",
    "# 예측\n",
    "img = np.asarray(img)\n",
    "plt.imshow(img, cmap='gray') # cmap='gray_r의 경우 흑백 반전 = Greys'\n",
    "plt.show()\n",
    "\n",
    "norm_img = scaler_test.transform(img.reshape(1,-1))\n",
    "\n",
    "result = sess.run(H, feed_dict={X: norm_img})\n",
    "\n",
    "for i in result:\n",
    "    m = i.max()\n",
    "    for j in range(10):\n",
    "        if i[j] == m:\n",
    "            print(\"예측 값 : {}\".format(j))\n",
    "            break"
   ]
  },
  {
   "cell_type": "code",
   "execution_count": null,
   "metadata": {},
   "outputs": [],
   "source": [
    "result = model.predict(x_data_test_norm)\n",
    "ans = []\n",
    "\n",
    "for i in result:\n",
    "    m = i.max()\n",
    "    for j in range(10):\n",
    "        if i[j] == m:\n",
    "            ans.append(j)\n",
    "            break\n",
    "\n",
    "sub = pd.read_csv('C:/Users/s_csmscox/jupyterSave/sample_submission.csv')\n",
    "sub['Label'] = ans\n",
    "sub.to_csv('C:/Users/s_csmscox/jupyterSave/sample_submission9.csv', index=False)"
   ]
  }
 ],
 "metadata": {
  "kernelspec": {
   "display_name": "Python 3",
   "language": "python",
   "name": "python3"
  },
  "language_info": {
   "codemirror_mode": {
    "name": "ipython",
    "version": 3
   },
   "file_extension": ".py",
   "mimetype": "text/x-python",
   "name": "python",
   "nbconvert_exporter": "python",
   "pygments_lexer": "ipython3",
   "version": "3.7.9"
  }
 },
 "nbformat": 4,
 "nbformat_minor": 4
}
