{
 "cells": [
  {
   "cell_type": "code",
   "execution_count": null,
   "id": "authorized-seller",
   "metadata": {},
   "outputs": [],
   "source": [
    "import numpy as np\n",
    "import pandas as pd\n",
    "import tensorflow as tf\n",
    "from sklearn.preprocessing import MinMaxScaler       # Normalization\n",
    "from sklearn.model_selection import train_test_split # train, test 분리\n",
    "from sklearn.model_selection import KFold            # Cross Validation\n",
    "\n",
    "df = pd.read_csv('./bmi.csv')"
   ]
  },
  {
   "cell_type": "code",
   "execution_count": null,
   "id": "circular-therapy",
   "metadata": {},
   "outputs": [],
   "source": [
    "# Data Split ( Train Data와 Test Data로 나눌꺼예요! )\n",
    "x_data_train, x_data_test, t_data_train, t_data_test = train_test_split(df[['height', 'weight']],df['label'], test_size=0.3, random_state=0)  # random_state는 seed의 개념과 같아요!\n",
    "\n",
    "# Min-Max Scaler를 이용해서 정규화(Normalization)진행\n",
    "scaler = MinMaxScaler()\n",
    "scaler.fit(x_data_train)\n",
    "x_data_train_norm = scaler.transform(x_data_train)\n",
    "x_data_test_norm = scaler.transform(x_data_test)\n",
    "\n",
    "# Tensorflow로 Onehot 처리\n",
    "sess = tf.Session()\n",
    "t_data_train_onehot = sess.run(tf.one_hot(t_data_train, depth=3))\n",
    "t_data_test_onehot = sess.run(tf.one_hot(t_data_test, depth=3))"
   ]
  },
  {
   "cell_type": "code",
   "execution_count": null,
   "id": "generous-occasions",
   "metadata": {},
   "outputs": [],
   "source": [
    "# placeholder\n",
    "X = tf.placeholder(shape=[None,2], dtype=tf.float32)\n",
    "T = tf.placeholder(shape=[None,3], dtype=tf.float32)\n",
    "\n",
    "# Weight & bias\n",
    "W = tf.Variable(tf.random.normal([2,3]), name='weight')\n",
    "b = tf.Variable(tf.random.normal([3]), name='bias')\n",
    "\n",
    "# Hypothesis\n",
    "logit = tf.matmul(X,W) + b\n",
    "H = tf.nn.softmax(logit)  # softmax activation function\n",
    "\n",
    "# loss function\n",
    "loss = tf.reduce_mean(tf.nn.softmax_cross_entropy_with_logits_v2(logits=logit,\n",
    "                                                                 labels=T))\n",
    "\n",
    "# train\n",
    "train = tf.train.GradientDescentOptimizer(learning_rate=0.1).minimize(loss)\n",
    "\n",
    "\n",
    "# parameter\n",
    "num_of_epoch = 1000\n",
    "batch_size = 100\n",
    "\n",
    "# 학습용 함수\n",
    "def run_train(sess,train_x, train_t):\n",
    "    print('### 학습 시작 ###')\n",
    "    # 초기화\n",
    "    sess.run(tf.global_variables_initializer())\n",
    "    \n",
    "    for step in range(num_of_epoch):\n",
    "        total_batch = int(train_x.shape[0] / batch_size)\n",
    "        \n",
    "        for i in range(total_batch):\n",
    "            batch_x = train_x[i*batch_size:(i+1)*batch_size]\n",
    "            batch_t = train_t[i*batch_size:(i+1)*batch_size]           \n",
    "            _, loss_val = sess.run([train,loss],\n",
    "                                   feed_dict={X: batch_x,\n",
    "                                              T: batch_t})\n",
    "            \n",
    "        if step % 100 == 0:\n",
    "            print('Loss : {}'.format(loss_val))\n",
    "    print('### 학습 종료 ###')\n",
    "    \n",
    "# Accuracy 측정(정확도)    \n",
    "predict = tf.argmax(H,1)\n",
    "correct = tf.equal(predict, tf.argmax(T,1))\n",
    "accuracy = tf.reduce_mean(tf.cast(correct, dtype=tf.float32))"
   ]
  },
  {
   "cell_type": "code",
   "execution_count": null,
   "id": "eight-washer",
   "metadata": {},
   "outputs": [],
   "source": [
    "# K-Fold Cross Validation\n",
    "cv = 5          # Fold의 수\n",
    "results = []    # 각 Fold당 학습과 성능평가가 진행되는데 \n",
    "                # 이때 계산된 성능평가 값을 저장\n",
    "kf = KFold(n_splits=cv, shuffle=True) \n",
    "\n",
    "for training_idx, validation_idx in kf.split(x_data_train_norm):\n",
    "    training_x = x_data_train_norm[training_idx] # Fancy indexing\n",
    "    training_t = t_data_train_onehot[training_idx]\n",
    "    \n",
    "    val_x = x_data_train_norm[validation_idx]\n",
    "    val_t = t_data_train_onehot[validation_idx]\n",
    "    \n",
    "    # 학습부터 시켜야 해요!\n",
    "    run_train(sess,training_x,training_t)\n",
    "    results.append(sess.run(accuracy, feed_dict={X:val_x, T:val_t}))\n",
    "\n",
    "print('측정한 각각의 결과값 : {}'.format(results))\n",
    "print('최종 K-Fold 교차검증을 사용한 Accuracy : {}'.format(np.mean(results)))"
   ]
  },
  {
   "cell_type": "code",
   "execution_count": null,
   "id": "brief-shore",
   "metadata": {},
   "outputs": [],
   "source": [
    "# Testing\n",
    "final_accuracy = sess.run(accuracy, feed_dict={X:x_data_test_norm,\n",
    "                                               T:t_data_test_onehot})\n",
    "print('우리 Model의 최종 정확도는 : {}'.format(final_accuracy))"
   ]
  },
  {
   "cell_type": "code",
   "execution_count": null,
   "id": "governmental-russell",
   "metadata": {},
   "outputs": [],
   "source": [
    "from sklearn.metrics import confusion_matrix, classification_report\n",
    "\n",
    "target_names=['0', '1', '2']\n",
    "\n",
    "print(\n",
    "classification_report(t_data_test,\n",
    "                     sess.run(predict, feed_dict={X:x_data_test_norm}),\n",
    "                     target_names = target_names))"
   ]
  },
  {
   "cell_type": "code",
   "execution_count": null,
   "id": "accepting-transition",
   "metadata": {},
   "outputs": [],
   "source": [
    "print(\n",
    "confusion_matrix(t_data_test,\n",
    "                     sess.run(predict, feed_dict={X:x_data_test_norm})))"
   ]
  }
 ],
 "metadata": {
  "kernelspec": {
   "display_name": "Python 3",
   "language": "python",
   "name": "python3"
  },
  "language_info": {
   "codemirror_mode": {
    "name": "ipython",
    "version": 3
   },
   "file_extension": ".py",
   "mimetype": "text/x-python",
   "name": "python",
   "nbconvert_exporter": "python",
   "pygments_lexer": "ipython3",
   "version": "3.7.10"
  }
 },
 "nbformat": 4,
 "nbformat_minor": 5
}
