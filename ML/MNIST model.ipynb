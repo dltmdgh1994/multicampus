{
 "cells": [
  {
   "cell_type": "code",
   "execution_count": 1,
   "metadata": {},
   "outputs": [],
   "source": [
    "import numpy as np\n",
    "import pandas as pd\n",
    "import tensorflow as tf\n",
    "from sklearn.preprocessing import MinMaxScaler       # Normalization\n",
    "from sklearn.model_selection import train_test_split # train, test 분리\n",
    "from sklearn.model_selection import KFold            # Cross Validation\n",
    "\n",
    "train = pd.read_csv('./digital_train.csv')\n",
    "test = pd.read_csv('./digital_test.csv')"
   ]
  },
  {
   "cell_type": "code",
   "execution_count": 2,
   "metadata": {},
   "outputs": [],
   "source": [
    "train_label = train['label']\n",
    "train.drop(['label'], axis=1, inplace=True)\n",
    "\n",
    "### 정규화\n",
    "scaler_train = MinMaxScaler()\n",
    "scaler_train.fit(train)\n",
    "norm_train_x = scaler_train.transform(train)\n",
    "\n",
    "scaler_test = MinMaxScaler()\n",
    "scaler_test.fit(train)\n",
    "norm_test_x = scaler_test.transform(test)\n",
    "\n",
    "### tensorflow 기능을 이용해서 one hot encoding을 생성\n",
    "sess = tf.Session()\n",
    "onehot_train_label = sess.run(tf.one_hot(train_label, depth=10))"
   ]
  },
  {
   "cell_type": "code",
   "execution_count": 3,
   "metadata": {},
   "outputs": [],
   "source": [
    "# placeholder\n",
    "X = tf.placeholder(shape=[None,784], dtype=tf.float32)\n",
    "T = tf.placeholder(shape=[None,10], dtype=tf.float32)\n",
    "\n",
    "# Weight & bias\n",
    "W = tf.Variable(tf.random.normal([784,10]), name='weight')\n",
    "b = tf.Variable(tf.random.normal([10]), name='bias')\n",
    "\n",
    "# Hypothesis\n",
    "logit = tf.matmul(X,W) + b\n",
    "H = tf.nn.softmax(logit)  # softmax activation function\n",
    "\n",
    "# loss function\n",
    "loss = tf.reduce_mean(tf.nn.softmax_cross_entropy_with_logits_v2(logits=logit,\n",
    "                                                                 labels=T))\n",
    "# train\n",
    "train = tf.train.GradientDescentOptimizer(learning_rate=0.1).minimize(loss)\n",
    "\n",
    "# parameter\n",
    "num_of_epoch = 1000\n",
    "batch_size = 100\n",
    "\n",
    "# 학습용 함수\n",
    "def run_train(sess,train_x, train_t):\n",
    "    print('### 학습 시작 ###')\n",
    "    # 초기화\n",
    "    sess.run(tf.global_variables_initializer())\n",
    "    \n",
    "    for step in range(num_of_epoch):\n",
    "        total_batch = int(train_x.shape[0] / batch_size)\n",
    "        \n",
    "        for i in range(total_batch):\n",
    "            batch_x = train_x[i*batch_size:(i+1)*batch_size]\n",
    "            batch_t = train_t[i*batch_size:(i+1)*batch_size]           \n",
    "            _, loss_val = sess.run([train,loss],\n",
    "                                   feed_dict={X: batch_x, T: batch_t})\n",
    "            \n",
    "        if step % 500 == 0:\n",
    "            print('Loss : {}'.format(loss_val))\n",
    "    print('### 학습 종료 ###')\n"
   ]
  },
  {
   "cell_type": "code",
   "execution_count": 4,
   "metadata": {},
   "outputs": [
    {
     "name": "stdout",
     "output_type": "stream",
     "text": [
      "### 학습 시작 ###\n",
      "Loss : 1.9848636388778687\n",
      "Loss : 0.15215669572353363\n",
      "### 학습 종료 ###\n",
      "측정한 각각의 결과값 : 0.9144047498703003\n",
      "### 학습 시작 ###\n",
      "Loss : 1.5995259284973145\n",
      "Loss : 0.1909625232219696\n",
      "### 학습 종료 ###\n",
      "측정한 각각의 결과값 : 0.9173809289932251\n",
      "### 학습 시작 ###\n",
      "Loss : 1.2696171998977661\n",
      "Loss : 0.16047227382659912\n",
      "### 학습 종료 ###\n",
      "측정한 각각의 결과값 : 0.9086904525756836\n",
      "### 학습 시작 ###\n",
      "Loss : 1.4368221759796143\n",
      "Loss : 0.16103772819042206\n",
      "### 학습 종료 ###\n",
      "측정한 각각의 결과값 : 0.9141666889190674\n",
      "### 학습 시작 ###\n",
      "Loss : 1.925696849822998\n",
      "Loss : 0.17130056023597717\n",
      "### 학습 종료 ###\n",
      "측정한 각각의 결과값 : 0.9127380847930908\n",
      "최종 K-Fold 교차검증을 사용한 Accuracy : 0.9134761691093445\n"
     ]
    }
   ],
   "source": [
    "# Accuracy    \n",
    "predict = tf.argmax(H,1)\n",
    "correct = tf.equal(predict, tf.argmax(T,1))\n",
    "accuracy = tf.reduce_mean(tf.cast(correct, dtype=tf.float32))\n",
    "\n",
    "# K-Fold Cross Validation\n",
    "cv = 5          # Fold의 수\n",
    "results = []    \n",
    "                \n",
    "kf = KFold(n_splits=cv, shuffle=True) \n",
    "\n",
    "for training_idx, validation_idx in kf.split(norm_train_x):\n",
    "    training_x = norm_train_x[training_idx] # Fancy indexing\n",
    "    training_t = onehot_train_label[training_idx]\n",
    "    \n",
    "    val_x = norm_train_x[validation_idx]\n",
    "    val_t = onehot_train_label[validation_idx]\n",
    "    \n",
    "    run_train(sess,training_x,training_t)\n",
    "    acc = sess.run(accuracy, feed_dict={X:val_x, T:val_t})\n",
    "    print('측정한 각각의 결과값 : {}'.format(acc))\n",
    "    results.append(acc)\n",
    "\n",
    "\n",
    "print('최종 K-Fold 교차검증을 사용한 Accuracy : {}'.format(np.mean(results)))"
   ]
  },
  {
   "cell_type": "code",
   "execution_count": 9,
   "metadata": {},
   "outputs": [
    {
     "data": {
      "image/png": "[encoded data removed]",
      "text/plain": [
       "<Figure size 432x288 with 1 Axes>"
      ]
     },
     "metadata": {
      "needs_background": "light"
     },
     "output_type": "display_data"
    },
    {
     "name": "stdout",
     "output_type": "stream",
     "text": [
      "예측 값 : 7\n"
     ]
    }
   ],
   "source": [
    "# 공식을 이용해서 직접 img를 흑백처리\n",
    "\n",
    "from PIL import Image\n",
    "import matplotlib.pyplot as plt\n",
    "\n",
    "img = np.asarray(Image.open('7.png'))\n",
    "\n",
    "# 그레이 스케일링\n",
    "r = 0.2989\n",
    "g = 0.5870\n",
    "b = 0.1140\n",
    "gray = img[:, :, 0] * r + img[:, :, 1] * g + img[:, :, 2] * b\n",
    "img = Image.fromarray(gray)\n",
    "\n",
    "# 사이즈 조절\n",
    "img = img.resize((28,28))\n",
    "\n",
    "# 예측\n",
    "img = np.asarray(img)\n",
    "plt.imshow(img, cmap='gray') # cmap='gray_r의 경우 흑백 반전 = Greys'\n",
    "plt.show()\n",
    "\n",
    "norm_img = scaler_test.transform(img.reshape(1,-1))\n",
    "\n",
    "result = sess.run(H, feed_dict={X: norm_img})\n",
    "\n",
    "for i in result:\n",
    "    m = i.max()\n",
    "    for j in range(10):\n",
    "        if i[j] == m:\n",
    "            print(\"예측 값 : {}\".format(j))\n",
    "            break"
   ]
  },
  {
   "cell_type": "code",
   "execution_count": 7,
   "metadata": {},
   "outputs": [
    {
     "ename": "ModuleNotFoundError",
     "evalue": "No module named 'cv2'",
     "output_type": "error",
     "traceback": [
      "\u001b[1;31m---------------------------------------------------------------------------\u001b[0m",
      "\u001b[1;31mModuleNotFoundError\u001b[0m                       Traceback (most recent call last)",
      "\u001b[1;32m<ipython-input-7-b91995601e7f>\u001b[0m in \u001b[0;36m<module>\u001b[1;34m\u001b[0m\n\u001b[0;32m      2\u001b[0m \u001b[1;33m\u001b[0m\u001b[0m\n\u001b[0;32m      3\u001b[0m \u001b[1;32mimport\u001b[0m \u001b[0mnumpy\u001b[0m \u001b[1;32mas\u001b[0m \u001b[0mnp\u001b[0m\u001b[1;33m\u001b[0m\u001b[1;33m\u001b[0m\u001b[0m\n\u001b[1;32m----> 4\u001b[1;33m \u001b[1;32mimport\u001b[0m \u001b[0mcv2\u001b[0m\u001b[1;33m\u001b[0m\u001b[1;33m\u001b[0m\u001b[0m\n\u001b[0m\u001b[0;32m      5\u001b[0m \u001b[1;32mfrom\u001b[0m \u001b[0mPIL\u001b[0m \u001b[1;32mimport\u001b[0m \u001b[0mImage\u001b[0m   \u001b[1;31m# conda install Pillow\u001b[0m\u001b[1;33m\u001b[0m\u001b[1;33m\u001b[0m\u001b[0m\n\u001b[0;32m      6\u001b[0m \u001b[1;32mimport\u001b[0m \u001b[0mmatplotlib\u001b[0m\u001b[1;33m.\u001b[0m\u001b[0mpyplot\u001b[0m \u001b[1;32mas\u001b[0m \u001b[0mplt\u001b[0m\u001b[1;33m\u001b[0m\u001b[1;33m\u001b[0m\u001b[0m\n",
      "\u001b[1;31mModuleNotFoundError\u001b[0m: No module named 'cv2'"
     ]
    }
   ],
   "source": [
    "# cv2 라이브러리를 이용하여 이미지를 흑백처리\n",
    "\n",
    "import numpy as np\n",
    "import cv2  \n",
    "from PIL import Image   # conda install Pillow\n",
    "import matplotlib.pyplot as plt\n",
    "\n",
    "my_img = cv2.imread('8.png', cv2.IMREAD_COLOR)\n",
    "\n",
    "# 그레이 스케일링\n",
    "img = cv2.cvtColor(my_img, cv2.COLOR_BGR2GRAY)\n",
    "cv2.imwrite('8.png', img)\n",
    "img = Image.open('8.png')\n",
    "\n",
    "# 사이즈 조절\n",
    "img = img.resize((28,28))\n",
    "\n",
    "# 흑백 반전\n",
    "img = np.asarray(img)\n",
    "img = 255 - img \n",
    "\n",
    "plt.imshow(img, cmap='Greys')\n",
    "plt.show()\n",
    "\n",
    "# 예측\n",
    "norm_img = scaler_test.transform(img.reshape(1,-1))\n",
    "\n",
    "result = sess.run(H, feed_dict={X: norm_img})\n",
    "\n",
    "for i in result:\n",
    "    m = i.max()\n",
    "    for j in range(10):\n",
    "        if i[j] == m:\n",
    "            print(\"예측 값 : {}\".format(j))\n",
    "            break"
   ]
  },
  {
   "cell_type": "code",
   "execution_count": 10,
   "metadata": {},
   "outputs": [],
   "source": [
    "result = sess.run(H, feed_dict={X: norm_test_x})\n",
    "ans = []\n",
    "\n",
    "for i in result:\n",
    "    m = i.max()\n",
    "    for j in range(10):\n",
    "        if i[j] == m:\n",
    "            ans.append(j)\n",
    "            break\n",
    "\n",
    "sub = pd.read_csv('./sample_submission.csv')\n",
    "sub['Label'] = ans\n",
    "sub.to_csv('sample_submission5.csv', index=False)"
   ]
  }
 ],
 "metadata": {
  "kernelspec": {
   "display_name": "Python 3",
   "language": "python",
   "name": "python3"
  },
  "language_info": {
   "codemirror_mode": {
    "name": "ipython",
    "version": 3
   },
   "file_extension": ".py",
   "mimetype": "text/x-python",
   "name": "python",
   "nbconvert_exporter": "python",
   "pygments_lexer": "ipython3",
   "version": "3.7.9"
  }
 },
 "nbformat": 4,
 "nbformat_minor": 5
}
