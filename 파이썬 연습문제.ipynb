{
 "cells": [
  {
   "cell_type": "code",
   "execution_count": 6,
   "metadata": {},
   "outputs": [
    {
     "name": "stdout",
     "output_type": "stream",
     "text": [
      "233168\n"
     ]
    }
   ],
   "source": [
    "## 문제 1.\n",
    "## 10보다 작은 자연수 중에서 3 또는 5의 배수는\n",
    "## 3,5,6,9가 존재해요! 이것들의 합은 23입니다.\n",
    "\n",
    "## 1000보다 작은 자연수 중에서 3 또는 5의 배수들을\n",
    "## 구해서 모두 합하면 얼마인가요?\n",
    "\n",
    "a = range(3, 1000, 3)\n",
    "b = range(5, 1000, 5)\n",
    "c = range(15, 1000, 15)\n",
    "\n",
    "sum = 0\n",
    "\n",
    "for i in a:\n",
    "    sum += i\n",
    "\n",
    "for i in b:\n",
    "    sum += i\n",
    "\n",
    "for i in c:\n",
    "    sum -= i\n",
    "    \n",
    "print(sum)"
   ]
  },
  {
   "cell_type": "code",
   "execution_count": 8,
   "metadata": {},
   "outputs": [
    {
     "name": "stdout",
     "output_type": "stream",
     "text": [
      "4613732\n"
     ]
    }
   ],
   "source": [
    "## 문제 2.\n",
    "## 피보나치 수열의 각 항은 바로 앞의 항 두 개를 더한 것이 됩니다. \n",
    "## 1과 2로 시작하는 경우 이 수열은 아래와 같습니다.\n",
    "\n",
    "## 1, 2, 3, 5, 8, 13, 21, 34, 55, 89, ...\n",
    "## 짝수이면서 4백만 이하인 모든 항을 더하면 얼마가 됩니까?\n",
    "\n",
    "pivo = [1,2]\n",
    "\n",
    "while pivo[-1] <= 4000000:\n",
    "    pivo.append(pivo[-1]+pivo[-2])\n",
    "\n",
    "sum = 0\n",
    "    \n",
    "for i in pivo:\n",
    "    if(i%2 == 0):\n",
    "        sum += i\n",
    "        \n",
    "print(sum)"
   ]
  },
  {
   "cell_type": "code",
   "execution_count": 12,
   "metadata": {},
   "outputs": [
    {
     "name": "stdout",
     "output_type": "stream",
     "text": [
      "I\n",
      "C\n"
     ]
    }
   ],
   "source": [
    "## 문제 3.\n",
    "## 알파벳 대소문자로 된 문자열이 주어지면, \n",
    "## 이 문자열에서 가장 많이 사용된 알파벳이 \n",
    "## 무엇인지 출력하는 프로그램을 작성하시오. \n",
    "## 단, 대소문자는 구별하지 않아요. 만약 동률이 존재하는 경우 \n",
    "## 알파벳 순으로 제일 앞에 있는\n",
    "## 문자를 출력하세요.\n",
    "\n",
    "str1 = \"This is a sample Program mississippi river\"\n",
    "str2 = \"abcdabcdababccddcd\"\n",
    "\n",
    "def printLot(s):\n",
    "    string = s.lower()\n",
    "    string = string.replace(\" \",\"\")\n",
    "    dic = {}\n",
    "    for s in string:\n",
    "        if(s in dic):\n",
    "            dic[s] += 1\n",
    "        else:\n",
    "            dic[s] = 1\n",
    "    \n",
    "    maximum = 0\n",
    "    k = \"\"\n",
    "    for key, val in dic.items():\n",
    "        if val > maximum:\n",
    "            maximum = val\n",
    "            k = key\n",
    "    \n",
    "    print(k.upper())\n",
    "\n",
    "printLot(str1)\n",
    "printLot(str2)"
   ]
  },
  {
   "cell_type": "code",
   "execution_count": 52,
   "metadata": {},
   "outputs": [
    {
     "name": "stdout",
     "output_type": "stream",
     "text": [
      "꽝 5개\n"
     ]
    }
   ],
   "source": [
    "## 문제 4.\n",
    "## 로또 프로그램 작성 \n",
    "## 5000원으로 로또복권을 5장 자동으로 구매합니다. \n",
    "## 이번 주 로또 당첨번호를 생성하여 로또 당첨을 확인하세요!\n",
    "## 쉬운버전으로 먼저 작성합니다.  \n",
    "## 6숫자가 다 맞으면 1등, 5개 맞으면 2등으로 처리합니다.\n",
    "## 즉, 쉬운버전은 보너스 숫자는 없는 것으로 간주합니다.\n",
    "## 쉬운버전을 해결했다면 \n",
    "## 보너스 숫자를 이용하여 로또 당첨을 확인합니다.\n",
    "## 보너스 숫자를 제외한 모든 숫자가 다 맞으면 1등,\n",
    "## 보너스 숫자를 포함하여 6개의 숫자가 맞으면 2등,\n",
    "## 보너스를 제외하고 5개의 숫자가 맞으면 3등으로 처리합니다.\n",
    "\n",
    "## 쉬운버전의 출력은 1등 몇개, 2등 몇개, 3등 몇개, \n",
    "## 4등 몇개, 꽝 몇개로 출력\n",
    "## 어려운버전의 출력은 1등 몇개, 2등 몇개, 3등 몇개, \n",
    "## 4등 몇개, 5등 몇개, 꽝 몇개로 출력\n",
    "\n",
    "## 랜덤값을 도출하기 위해서는 다음의 코드를 이용한다.\n",
    "import random\n",
    " \n",
    "i = random.randint(1, 100)  # 1부터 100 사이의 임의의 정수 \n",
    "f = random.random()   # 0부터 1 사이의 임의의 float\n",
    "i = random.randrange(1, 101, 2) # 1부터 100 사이의 임의의 짝수\n",
    "i = random.randrange(10)  # 0부터 9 사이의 임의의 정수\n",
    "\n",
    "\n",
    "#쉬운버전\n",
    "\n",
    "My = [] #뽑은 번호\n",
    "Lotto = [] #당첨 번호\n",
    "\n",
    "for i in range(1,6):\n",
    "    l = []\n",
    "    while True:\n",
    "        if len(l) == 6:\n",
    "            break\n",
    "        else:\n",
    "            m = random.randint(1,45)\n",
    "            if m not in l:\n",
    "                l.append(m)\n",
    "    l.sort()\n",
    "    My.append(l)\n",
    "            \n",
    "while True:\n",
    "    if len(Lotto) == 6:\n",
    "        break\n",
    "    else:\n",
    "        l = random.randint(1,45)\n",
    "        if l not in Lotto:\n",
    "            Lotto.append(l)\n",
    "            \n",
    "Lotto.sort()\n",
    "\n",
    "def checkLotto(My, Lotto):\n",
    "    result = [0, 0, 0, 0, 0]\n",
    "    \n",
    "    for m in My:\n",
    "        cnt = 0\n",
    "        for i in m:\n",
    "            if i in Lotto:\n",
    "                cnt += 1\n",
    "                \n",
    "        if(cnt == 6):\n",
    "            result[0] += 1\n",
    "        elif(cnt == 5):\n",
    "            result[1] += 1\n",
    "        elif(cnt == 4):\n",
    "            result[2] += 1\n",
    "        elif(cnt == 3):\n",
    "            result[3] += 1\n",
    "        else:\n",
    "            result[4] += 1\n",
    "    \n",
    "    return result\n",
    "\n",
    "def printResult(result):\n",
    "    if result[0] != 0:\n",
    "        print(\"1등 \"+str(result[0])+\"개\")\n",
    "    if result[1] != 0:\n",
    "        print(\"2등 \"+str(result[1])+\"개\")\n",
    "    if result[2] != 0:\n",
    "        print(\"3등 \"+str(result[2])+\"개\")\n",
    "    if result[3] != 0:\n",
    "        print(\"4등 \"+str(result[3])+\"개\")\n",
    "    if result[4] != 0:\n",
    "        print(\"꽝 \"+str(result[4])+\"개\")\n",
    "\n",
    "result = checkLotto(My, Lotto)\n",
    "printResult(result)\n"
   ]
  },
  {
   "cell_type": "code",
   "execution_count": 54,
   "metadata": {},
   "outputs": [
    {
     "name": "stdout",
     "output_type": "stream",
     "text": [
      "꽝 5개\n"
     ]
    }
   ],
   "source": [
    "#어려운 버전\n",
    "\n",
    "My = [] #뽑은 번호\n",
    "Lotto = [] #당첨 번호\n",
    "Bonus = 0 #보너스 번호\n",
    "\n",
    "for i in range(1,6):\n",
    "    l = []\n",
    "    while True:\n",
    "        if len(l) == 6:\n",
    "            break\n",
    "        else:\n",
    "            m = random.randint(1,45)\n",
    "            if m not in l:\n",
    "                l.append(m)\n",
    "    l.sort()\n",
    "    My.append(l)\n",
    "            \n",
    "while True:\n",
    "    if len(Lotto) == 7:\n",
    "        break\n",
    "    else:\n",
    "        l = random.randint(1,45)\n",
    "        if l not in Lotto:\n",
    "            Lotto.append(l)\n",
    "            \n",
    "Bonus = Lotto[6]\n",
    "Lotto = Lotto[0:5]\n",
    "Lotto.sort()\n",
    "\n",
    "def checkLotto(My, Lotto):\n",
    "    result = [0, 0, 0, 0, 0, 0]\n",
    "    \n",
    "    for m in My:\n",
    "        cnt = 0\n",
    "        B = 0\n",
    "        for i in m:\n",
    "            if i in Lotto:\n",
    "                cnt += 1\n",
    "        \n",
    "        if Bonus in m:\n",
    "            B += 1\n",
    "                \n",
    "        if(cnt == 6):\n",
    "            result[0] += 1\n",
    "        elif(cnt == 5 and B == 1):\n",
    "            result[1] += 1\n",
    "        elif(cnt == 5):\n",
    "            result[2] += 1\n",
    "        elif(cnt == 4):\n",
    "            result[3] += 1\n",
    "        elif(cnt == 3):\n",
    "            result[4] += 1    \n",
    "        else:\n",
    "            result[5] += 1\n",
    "    \n",
    "    return result\n",
    "\n",
    "def printResult(result):\n",
    "    if result[0] != 0:\n",
    "        print(\"1등 \"+str(result[0])+\"개\")\n",
    "    if result[1] != 0:\n",
    "        print(\"2등 \"+str(result[1])+\"개\")\n",
    "    if result[2] != 0:\n",
    "        print(\"3등 \"+str(result[2])+\"개\")\n",
    "    if result[3] != 0:\n",
    "        print(\"4등 \"+str(result[3])+\"개\")\n",
    "    if result[4] != 0:\n",
    "        print(\"5등 \"+str(result[4])+\"개\")\n",
    "    if result[5] != 0:\n",
    "        print(\"꽝 \"+str(result[5])+\"개\")\n",
    "\n",
    "result = checkLotto(My, Lotto)\n",
    "printResult(result)\n"
   ]
  },
  {
   "cell_type": "code",
   "execution_count": 57,
   "metadata": {},
   "outputs": [
    {
     "name": "stdout",
     "output_type": "stream",
     "text": [
      "8145060000원\n"
     ]
    }
   ],
   "source": [
    "##### 추가문제\n",
    "##### 1등에 당첨될려면 평균적으로 얼마만큼의 돈을 투자해야 할까요?\n",
    "##### 로또 1게임은 1000원입니다.\n",
    "\n",
    "## 로또에 당첨될 확률은 1/8145060\n",
    "## 따라서 평균적으로 투자해야할 돈은\n",
    "print(\"{}원\".format(8145060*1000))"
   ]
  },
  {
   "cell_type": "code",
   "execution_count": 80,
   "metadata": {},
   "outputs": [
    {
     "name": "stdout",
     "output_type": "stream",
     "text": [
      "6857\n"
     ]
    }
   ],
   "source": [
    "## 문제 5.\n",
    "## 어떤 수를 소수의 곱으로만 나타내는 것을 소인수분해라 하고, \n",
    "## 이 소수들을 그 수의 소인수라고 합니다.\n",
    "## 예를 들면 13195의 소인수는 5, 7, 13, 29 입니다.\n",
    "\n",
    "## 600851475143의 소인수 중에서 가장 큰 수를 구하세요.\n",
    "prime = []\n",
    "num = 600851475143\n",
    "for i in range(2,int((num+1)**0.5)):\n",
    "    while num % i == 0:\n",
    "        prime.append(i)\n",
    "        num = num/i\n",
    "\n",
    "prime.sort()\n",
    "print(prime[-1])"
   ]
  },
  {
   "cell_type": "code",
   "execution_count": 69,
   "metadata": {},
   "outputs": [
    {
     "name": "stdout",
     "output_type": "stream",
     "text": [
      "906609\n"
     ]
    }
   ],
   "source": [
    "## 문제 6.\n",
    "## 앞에서부터 읽을 때나 뒤에서부터 읽을 때나 모양이 \n",
    "## 같은 수를 대칭수(palindrome)라고 부릅니다.\n",
    "\n",
    "## 두 자리 수를 곱해 만들 수 있는 대칭수 중 \n",
    "## 가장 큰 수는 9009 (= 91 × 99) 입니다.\n",
    "\n",
    "## 세 자리 수를 곱해 만들 수 있는 가장 큰 대칭수를 구하세요\n",
    "\n",
    "palindrome = []\n",
    "\n",
    "for i in range(100,1000):\n",
    "    for j in range(100,1000):\n",
    "        num = i*j\n",
    "        if num == int(str(num)[::-1]):\n",
    "            palindrome.append(num)\n",
    "            \n",
    "palindrome.sort()\n",
    "print(palindrome[-1])"
   ]
  },
  {
   "cell_type": "code",
   "execution_count": 76,
   "metadata": {},
   "outputs": [
    {
     "name": "stdout",
     "output_type": "stream",
     "text": [
      "232792560\n"
     ]
    }
   ],
   "source": [
    "## 문제 7.\n",
    "## 1 ~ 10 사이의 어떤 수로도 나누어 떨어지는 가장 작은 수는 2520입니다.\n",
    "   \n",
    "## 그러면 1 ~ 20 사이의 어떤 수로도 나누어 떨어지는 가장 작은 수는 얼마입니까?\n",
    "n = range(1,21)\n",
    "num = 20\n",
    "\n",
    "while True:\n",
    "    flag = True\n",
    "    for i in n:\n",
    "        if num % i != 0:\n",
    "            num += 20\n",
    "            flag = False\n",
    "            break\n",
    "    \n",
    "    if flag == True:\n",
    "        break\n",
    "\n",
    "print(num)\n",
    "        "
   ]
  },
  {
   "cell_type": "code",
   "execution_count": 79,
   "metadata": {},
   "outputs": [
    {
     "name": "stdout",
     "output_type": "stream",
     "text": [
      "25164150\n"
     ]
    }
   ],
   "source": [
    "## 문제 8.\n",
    "## 1부터 10까지 자연수를 각각 제곱해 더하면 다음과 같습니다 (제곱의 합).\n",
    "## 1**2 + 2**2 + ... + 10**2 = 385\n",
    "\n",
    "## 1부터 10을 먼저 더한 다음에 그 결과를 제곱하면 다음과 같습니다 (합의 제곱).\n",
    "## (1 + 2 + ... + 10)**2 = 552 = 3025\n",
    "\n",
    "## 따라서 1부터 10까지 자연수에 대해 \"합의 제곱\"과 \"제곱의 합\" 의 \n",
    "## 차이는 3025 - 385 = 2640 이 됩니다.\n",
    "\n",
    "## 그러면 1부터 100까지 자연수에 대해 \"합의 제곱\"과 \"제곱의 합\"의 차이는 \n",
    "## 얼마입니까?\n",
    "\n",
    "sum = 0\n",
    "sqrtsum = 0\n",
    "\n",
    "for i in range(1,101):\n",
    "    sum += i\n",
    "    sqrtsum += i**2\n",
    "\n",
    "print(sum**2 - sqrtsum)"
   ]
  },
  {
   "cell_type": "code",
   "execution_count": 102,
   "metadata": {},
   "outputs": [
    {
     "name": "stdout",
     "output_type": "stream",
     "text": [
      "104743\n"
     ]
    }
   ],
   "source": [
    "## 문제 9.\n",
    "## 소수를 크기 순으로 나열하면 2, 3, 5, 7, 11, 13, ... 과 같이 됩니다.\n",
    "\n",
    "## 이 때 10,001번째의 소수를 구하세요.\n",
    "num = 4\n",
    "cnt = 2\n",
    "\n",
    "while True:   \n",
    "    flag = False\n",
    "    for i in range(2,int((num)**0.5)+1):\n",
    "        if(num % i == 0):\n",
    "            flag = True\n",
    "            break\n",
    "    \n",
    "    if flag == False:\n",
    "        cnt += 1\n",
    "        if cnt == 10001:\n",
    "            print(num)\n",
    "            break\n",
    "        num += 1\n",
    "    else:\n",
    "        num += 1    "
   ]
  },
  {
   "cell_type": "code",
   "execution_count": 103,
   "metadata": {},
   "outputs": [
    {
     "name": "stdout",
     "output_type": "stream",
     "text": [
      "31875000\n"
     ]
    }
   ],
   "source": [
    "## 문제 10.\n",
    "## 세 자연수 a, b, c 가 피타고라스 정리 a**2 + b**2 = c**2 를 만족하면 \n",
    "## 피타고라스 수라고 부릅니다 (여기서 a < b < c ).\n",
    "## 예를 들면 3**2 + 4**2 = 9 + 16 = 25 = 5**2이므로 \n",
    "## 3, 4, 5는 피타고라스 수입니다.\n",
    "4\n",
    "## a + b + c = 1000 인 피타고라스 수 a, b, c는 한 가지 뿐입니다. \n",
    "## 이 때, a × b × c 는 얼마입니까?\n",
    "\n",
    "for a in range(1, 350):\n",
    "    for b in range(a+1, 500):\n",
    "        c = 1000 - a - b\n",
    "        if (a*a + b*b == c*c) and c > b:\n",
    "            print(a*b*c)"
   ]
  },
  {
   "cell_type": "code",
   "execution_count": 2,
   "metadata": {},
   "outputs": [],
   "source": [
    "## Class 연습문제\n",
    "\n",
    "class Car(object):\n",
    "    def __init__(self,maf,model,displ,year,cyl,trans,drv,cty,hwy,fl,clas):\n",
    "        self.maf = maf\n",
    "        self.model = model\n",
    "        self.displ = float(displ)\n",
    "        self.year = int(year)\n",
    "        self.cyl = int(cyl)\n",
    "        self.trans = trans\n",
    "        self.drv = drv\n",
    "        self.cty = int(cty)\n",
    "        self.hwy = int(hwy)\n",
    "        self.fl = fl\n",
    "        self.clas = clas\n",
    "        self.avgy = (int(cty) + int(hwy))/2\n",
    "        \n",
    "    # __repr__ 오버라이딩\n",
    "    # 이 함수는 클래스 이름과 변수가 위치하고 있는 메모리 주소를 <>안에 써서 반환한다.\n",
    "    def __repr__(self):\n",
    "        return repr((self.maf,self.model,self.displ,self.year,self.cyl,self.trans,\n",
    "                     self.drv,self.cty,self.hwy,self.fl,self.clas,self.avgy))\n",
    "    \n",
    "    def getMaf(self):\n",
    "        return self.maf\n",
    "    \n",
    "    def getModel(self):\n",
    "        return self.model\n",
    "    \n",
    "    def getDispl(self):\n",
    "        return self.displ\n",
    "    \n",
    "    def getYear(self):\n",
    "        return self.year\n",
    "    \n",
    "    def getCyl(self):\n",
    "        return self.cyl\n",
    "    \n",
    "    def getTrans(self):\n",
    "        return self.trans\n",
    "    \n",
    "    def getDrv(self):\n",
    "        return self.drv\n",
    "    \n",
    "    def getCty(self):\n",
    "        return self.cty\n",
    "    \n",
    "    def getHwy(self):\n",
    "        return self.hwy\n",
    "    \n",
    "    def getFl(self):\n",
    "        return self.fl\n",
    "    \n",
    "    def getClas(self):\n",
    "        return self.clas\n",
    "    \n",
    "    def getAvgy(self):\n",
    "        return self.avgy"
   ]
  },
  {
   "cell_type": "code",
   "execution_count": 3,
   "metadata": {},
   "outputs": [],
   "source": [
    "f = open('mpg.txt','r')\n",
    "\n",
    "cars = []\n",
    "f.readline()\n",
    "\n",
    "while True:\n",
    "    line = f.readline().rstrip('\\n')\n",
    "    \n",
    "    if not line:\n",
    "        break\n",
    "    s = line.split(',')\n",
    "    \n",
    "    cars.append(Car(s[0],s[1],s[2],s[3],s[4],s[5],s[6],s[7],s[8],s[9],s[10]))\n",
    "    \n",
    "f.close()"
   ]
  },
  {
   "cell_type": "code",
   "execution_count": 46,
   "metadata": {},
   "outputs": [
    {
     "name": "stdout",
     "output_type": "stream",
     "text": [
      "displ(배기량)이 4 이하인 자동차들의 평균 연비 : 24.479591836734695\n",
      "displ(배기량)이 5 이상인 자동차들의 평균 연비 : 18.07894736842105\n"
     ]
    }
   ],
   "source": [
    "# 1. displ(배기량)이 4 이하인 자동차와 5 이상인 자동차 중 \n",
    "# 어떤 자동차의 hwy(고속도로 연비)가 평균적으로 더 높은지 확인하세요.\n",
    "\n",
    "sum4 = 0\n",
    "sum5 = 0\n",
    "displ4Cnt = 0\n",
    "displ5Cnt = 0\n",
    "\n",
    "for car in cars:\n",
    "    if car.getDispl() >= 5:\n",
    "        sum5 += car.getHwy()\n",
    "        displ5Cnt += 1\n",
    "    else:\n",
    "        sum4 += car.getHwy()\n",
    "        displ4Cnt += 1\n",
    "\n",
    "print(\"displ(배기량)이 4 이하인 자동차들의 평균 연비 : \" + str(sum4/displ4Cnt))\n",
    "print(\"displ(배기량)이 5 이상인 자동차들의 평균 연비 : \" + str(sum5/displ5Cnt))"
   ]
  },
  {
   "cell_type": "code",
   "execution_count": 49,
   "metadata": {},
   "outputs": [
    {
     "name": "stdout",
     "output_type": "stream",
     "text": [
      "Audi 자동차들의 평균 연비 : 17.61111111111111\n",
      "Toyota 자동차들의 평균 연비 : 18.529411764705884\n"
     ]
    }
   ],
   "source": [
    "# 2. 자동차 제조 회사에 따라 도시 연비가 다른지 알아보려고 한다. \n",
    "# \"audi\"와 \"toyota\" 중 어느 manufacturer(제조회사)의 cty(도시 연비)가 \n",
    "# 평균적으로 더 높은지 확인하세요.\n",
    "\n",
    "sumAudi = 0\n",
    "sumToyota = 0\n",
    "audiCnt = 0\n",
    "toyotaCnt = 0\n",
    "\n",
    "for car in cars:\n",
    "    if car.getMaf() == 'audi':\n",
    "        sumAudi += car.getCty()\n",
    "        audiCnt += 1\n",
    "    elif car.getMaf() == 'toyota':\n",
    "        sumToyota += car.getCty()\n",
    "        toyotaCnt += 1\n",
    "\n",
    "print(\"Audi 자동차들의 평균 연비 : \" + str(sumAudi/audiCnt))\n",
    "print(\"Toyota 자동차들의 평균 연비 : \" + str(sumToyota/toyotaCnt))"
   ]
  },
  {
   "cell_type": "code",
   "execution_count": 51,
   "metadata": {},
   "outputs": [
    {
     "name": "stdout",
     "output_type": "stream",
     "text": [
      "Chevrolet 자동차들의 평균 연비 : 21.894736842105264\n",
      "Ford 자동차들의 평균 연비 : 19.36\n",
      "Honda 자동차들의 평균 연비 : 32.55555555555556\n"
     ]
    }
   ],
   "source": [
    "# 3. \"chevrolet\", \"ford\", \"honda\" 자동차의 고속도로 연비 평균을 알아보려고 한다. \n",
    "# 이 회사들의 데이터를 추출한 후 hwy(고속도로 연비) 평균을 구하세요.\n",
    "\n",
    "sumChe = 0\n",
    "sumFord = 0\n",
    "sumHon = 0\n",
    "cheCnt = 0\n",
    "fordCnt = 0\n",
    "honCnt = 0\n",
    "\n",
    "for car in cars:\n",
    "    if car.getMaf() == 'chevrolet':\n",
    "        sumChe += car.getHwy()\n",
    "        cheCnt += 1\n",
    "    elif car.getMaf() == 'ford':\n",
    "        sumFord += car.getHwy()\n",
    "        fordCnt += 1\n",
    "    elif car.getMaf() == 'honda':\n",
    "        sumHon += car.getHwy()\n",
    "        honCnt += 1\n",
    "\n",
    "print(\"Chevrolet 자동차들의 평균 연비 : \" + str(sumChe/cheCnt))\n",
    "print(\"Ford 자동차들의 평균 연비 : \" + str(sumFord/fordCnt))\n",
    "print(\"Honda 자동차들의 평균 연비 : \" + str(sumHon/honCnt))"
   ]
  },
  {
   "cell_type": "code",
   "execution_count": 8,
   "metadata": {
    "scrolled": true
   },
   "outputs": [
    {
     "name": "stdout",
     "output_type": "stream",
     "text": [
      "Audi 자동차\n",
      "연비 1위 -> 제조사 : audi, 모델 : a4, 생산년도 : 2008, 엔진 : manual(m6), 종류: compact, Hwy : 31, Cty : 20, 평균 연비 : 25.5\n",
      "연비 2위 -> 제조사 : audi, 모델 : a4, 생산년도 : 2008, 엔진 : auto(av), 종류: compact, Hwy : 30, Cty : 21, 평균 연비 : 25.5\n",
      "연비 3위 -> 제조사 : audi, 모델 : a4, 생산년도 : 1999, 엔진 : auto(l5), 종류: compact, Hwy : 29, Cty : 18, 평균 연비 : 23.5\n",
      "연비 4위 -> 제조사 : audi, 모델 : a4, 생산년도 : 1999, 엔진 : manual(m5), 종류: compact, Hwy : 29, Cty : 21, 평균 연비 : 25.0\n",
      "연비 5위 -> 제조사 : audi, 모델 : a4 quattro, 생산년도 : 2008, 엔진 : manual(m6), 종류: compact, Hwy : 28, Cty : 20, 평균 연비 : 24.0\n",
      "-----------------------------------------------------------------\n"
     ]
    }
   ],
   "source": [
    "# 4. \"audi\"에서 생산한 자동차 중에 어떤 자동차 모델의 hwy(고속도로 연비)가 \n",
    "# 높은지 알아보려고 한다. \"audi\"에서 생산한 자동차 중 hwy가 1~5위에 해당하는 \n",
    "# 자동차의 데이터를 출력하세요.\n",
    "\n",
    "def carInfo(car):\n",
    "    return (\"제조사 : \" + car.getMaf() + \", 모델 : \"+ car.getModel() + \n",
    "            \", 생산년도 : \" + str(car.getYear()) + \", 엔진 : \" + car.getTrans() + \n",
    "            \", 종류: \" + car.getClas() + \", Hwy : \" + str(car.getHwy()) + \n",
    "            \", Cty : \" + str(car.getCty()) + \", 평균 연비 : \" + str(car.getAvgy()))\n",
    "\n",
    "def print_carInfo(cars):\n",
    "    cnt = 0\n",
    "    if len(cars) != 0:\n",
    "        for car in cars:\n",
    "            cnt += 1\n",
    "            if cnt == 6:\n",
    "                break\n",
    "            print(\"연비 \" + str(cnt) + \"위 -> \" + carInfo(car))\n",
    "    else:\n",
    "        print(\"부합하는 모델이 없음\")\n",
    "        \n",
    "    print('-----------------------------------------------------------------')\n",
    "        \n",
    "    \n",
    "audi_cars = []\n",
    "\n",
    "for car in cars:\n",
    "    if car.getMaf() == 'audi':\n",
    "        audi_cars.append(car)\n",
    "\n",
    "audi_cars = sorted(audi_cars, key = lambda car: car.hwy, reverse=True) # 내림차순\n",
    "\n",
    "print(\"Audi 자동차\")\n",
    "print_carInfo(audi_cars)"
   ]
  },
  {
   "cell_type": "code",
   "execution_count": 10,
   "metadata": {},
   "outputs": [
    {
     "name": "stdout",
     "output_type": "stream",
     "text": [
      "mercury\n",
      "연비 1위 -> 제조사 : mercury, 모델 : mountaineer 4wd, 생산년도 : 2008, 엔진 : auto(l5), 종류: suv, Hwy : 19, Cty : 13, 평균 연비 : 16.0\n",
      "연비 2위 -> 제조사 : mercury, 모델 : mountaineer 4wd, 생산년도 : 2008, 엔진 : auto(l6), 종류: suv, Hwy : 19, Cty : 13, 평균 연비 : 16.0\n",
      "연비 3위 -> 제조사 : mercury, 모델 : mountaineer 4wd, 생산년도 : 1999, 엔진 : auto(l5), 종류: suv, Hwy : 17, Cty : 14, 평균 연비 : 15.5\n",
      "연비 4위 -> 제조사 : mercury, 모델 : mountaineer 4wd, 생산년도 : 1999, 엔진 : auto(l4), 종류: suv, Hwy : 17, Cty : 13, 평균 연비 : 15.0\n",
      "-----------------------------------------------------------------\n",
      "subaru\n",
      "연비 1위 -> 제조사 : subaru, 모델 : forester awd, 생산년도 : 2008, 엔진 : manual(m5), 종류: suv, Hwy : 27, Cty : 20, 평균 연비 : 23.5\n",
      "연비 2위 -> 제조사 : subaru, 모델 : forester awd, 생산년도 : 2008, 엔진 : auto(l4), 종류: suv, Hwy : 26, Cty : 20, 평균 연비 : 23.0\n",
      "연비 3위 -> 제조사 : subaru, 모델 : forester awd, 생산년도 : 2008, 엔진 : manual(m5), 종류: suv, Hwy : 25, Cty : 19, 평균 연비 : 22.0\n",
      "연비 4위 -> 제조사 : subaru, 모델 : forester awd, 생산년도 : 1999, 엔진 : manual(m5), 종류: suv, Hwy : 25, Cty : 18, 평균 연비 : 21.5\n",
      "연비 5위 -> 제조사 : subaru, 모델 : forester awd, 생산년도 : 1999, 엔진 : auto(l4), 종류: suv, Hwy : 24, Cty : 18, 평균 연비 : 21.0\n",
      "-----------------------------------------------------------------\n",
      "jeep\n",
      "연비 1위 -> 제조사 : jeep, 모델 : grand cherokee 4wd, 생산년도 : 2008, 엔진 : auto(l5), 종류: suv, Hwy : 22, Cty : 17, 평균 연비 : 19.5\n",
      "연비 2위 -> 제조사 : jeep, 모델 : grand cherokee 4wd, 생산년도 : 1999, 엔진 : auto(l4), 종류: suv, Hwy : 20, Cty : 15, 평균 연비 : 17.5\n",
      "연비 3위 -> 제조사 : jeep, 모델 : grand cherokee 4wd, 생산년도 : 2008, 엔진 : auto(l5), 종류: suv, Hwy : 19, Cty : 15, 평균 연비 : 17.0\n",
      "연비 4위 -> 제조사 : jeep, 모델 : grand cherokee 4wd, 생산년도 : 2008, 엔진 : auto(l5), 종류: suv, Hwy : 19, Cty : 14, 평균 연비 : 16.5\n",
      "연비 5위 -> 제조사 : jeep, 모델 : grand cherokee 4wd, 생산년도 : 1999, 엔진 : auto(l4), 종류: suv, Hwy : 17, Cty : 14, 평균 연비 : 15.5\n",
      "-----------------------------------------------------------------\n",
      "chevrolet\n",
      "연비 1위 -> 제조사 : chevrolet, 모델 : c1500 suburban 2wd, 생산년도 : 2008, 엔진 : auto(l4), 종류: suv, Hwy : 20, Cty : 14, 평균 연비 : 17.0\n",
      "연비 2위 -> 제조사 : chevrolet, 모델 : c1500 suburban 2wd, 생산년도 : 2008, 엔진 : auto(l4), 종류: suv, Hwy : 20, Cty : 14, 평균 연비 : 17.0\n",
      "연비 3위 -> 제조사 : chevrolet, 모델 : k1500 tahoe 4wd, 생산년도 : 2008, 엔진 : auto(l4), 종류: suv, Hwy : 19, Cty : 14, 평균 연비 : 16.5\n",
      "연비 4위 -> 제조사 : chevrolet, 모델 : k1500 tahoe 4wd, 생산년도 : 1999, 엔진 : auto(l4), 종류: suv, Hwy : 17, Cty : 14, 평균 연비 : 15.5\n",
      "연비 5위 -> 제조사 : chevrolet, 모델 : c1500 suburban 2wd, 생산년도 : 1999, 엔진 : auto(l4), 종류: suv, Hwy : 17, Cty : 13, 평균 연비 : 15.0\n",
      "-----------------------------------------------------------------\n",
      "honda\n",
      "부합하는 모델이 없음\n",
      "-----------------------------------------------------------------\n",
      "ford\n",
      "연비 1위 -> 제조사 : ford, 모델 : explorer 4wd, 생산년도 : 1999, 엔진 : manual(m5), 종류: suv, Hwy : 19, Cty : 15, 평균 연비 : 17.0\n",
      "연비 2위 -> 제조사 : ford, 모델 : explorer 4wd, 생산년도 : 2008, 엔진 : auto(l5), 종류: suv, Hwy : 19, Cty : 13, 평균 연비 : 16.0\n",
      "연비 3위 -> 제조사 : ford, 모델 : explorer 4wd, 생산년도 : 2008, 엔진 : auto(l6), 종류: suv, Hwy : 19, Cty : 13, 평균 연비 : 16.0\n",
      "연비 4위 -> 제조사 : ford, 모델 : explorer 4wd, 생산년도 : 1999, 엔진 : auto(l5), 종류: suv, Hwy : 17, Cty : 14, 평균 연비 : 15.5\n",
      "연비 5위 -> 제조사 : ford, 모델 : explorer 4wd, 생산년도 : 1999, 엔진 : auto(l5), 종류: suv, Hwy : 17, Cty : 14, 평균 연비 : 15.5\n",
      "-----------------------------------------------------------------\n",
      "toyota\n",
      "연비 1위 -> 제조사 : toyota, 모델 : 4runner 4wd, 생산년도 : 1999, 엔진 : auto(l4), 종류: suv, Hwy : 20, Cty : 16, 평균 연비 : 18.0\n",
      "연비 2위 -> 제조사 : toyota, 모델 : 4runner 4wd, 생산년도 : 2008, 엔진 : auto(l5), 종류: suv, Hwy : 20, Cty : 16, 평균 연비 : 18.0\n",
      "연비 3위 -> 제조사 : toyota, 모델 : 4runner 4wd, 생산년도 : 1999, 엔진 : manual(m5), 종류: suv, Hwy : 20, Cty : 15, 평균 연비 : 17.5\n",
      "연비 4위 -> 제조사 : toyota, 모델 : 4runner 4wd, 생산년도 : 1999, 엔진 : auto(l4), 종류: suv, Hwy : 19, Cty : 15, 평균 연비 : 17.0\n",
      "연비 5위 -> 제조사 : toyota, 모델 : 4runner 4wd, 생산년도 : 1999, 엔진 : manual(m5), 종류: suv, Hwy : 17, Cty : 15, 평균 연비 : 16.0\n",
      "-----------------------------------------------------------------\n",
      "volkswagen\n",
      "부합하는 모델이 없음\n",
      "-----------------------------------------------------------------\n",
      "dodge\n",
      "연비 1위 -> 제조사 : dodge, 모델 : durango 4wd, 생산년도 : 2008, 엔진 : auto(l5), 종류: suv, Hwy : 18, Cty : 13, 평균 연비 : 15.5\n",
      "연비 2위 -> 제조사 : dodge, 모델 : durango 4wd, 생산년도 : 1999, 엔진 : auto(l4), 종류: suv, Hwy : 17, Cty : 13, 평균 연비 : 15.0\n",
      "연비 3위 -> 제조사 : dodge, 모델 : durango 4wd, 생산년도 : 2008, 엔진 : auto(l5), 종류: suv, Hwy : 17, Cty : 13, 평균 연비 : 15.0\n",
      "연비 4위 -> 제조사 : dodge, 모델 : durango 4wd, 생산년도 : 2008, 엔진 : auto(l5), 종류: suv, Hwy : 17, Cty : 13, 평균 연비 : 15.0\n",
      "연비 5위 -> 제조사 : dodge, 모델 : durango 4wd, 생산년도 : 1999, 엔진 : auto(l4), 종류: suv, Hwy : 16, Cty : 11, 평균 연비 : 13.5\n",
      "-----------------------------------------------------------------\n",
      "lincoln\n",
      "연비 1위 -> 제조사 : lincoln, 모델 : navigator 2wd, 생산년도 : 2008, 엔진 : auto(l6), 종류: suv, Hwy : 18, Cty : 12, 평균 연비 : 15.0\n",
      "연비 2위 -> 제조사 : lincoln, 모델 : navigator 2wd, 생산년도 : 1999, 엔진 : auto(l4), 종류: suv, Hwy : 17, Cty : 11, 평균 연비 : 14.0\n",
      "연비 3위 -> 제조사 : lincoln, 모델 : navigator 2wd, 생산년도 : 1999, 엔진 : auto(l4), 종류: suv, Hwy : 16, Cty : 11, 평균 연비 : 13.5\n",
      "-----------------------------------------------------------------\n",
      "pontiac\n",
      "부합하는 모델이 없음\n",
      "-----------------------------------------------------------------\n",
      "hyundai\n",
      "부합하는 모델이 없음\n",
      "-----------------------------------------------------------------\n",
      "land rover\n",
      "연비 1위 -> 제조사 : land rover, 모델 : range rover, 생산년도 : 2008, 엔진 : auto(s6), 종류: suv, Hwy : 18, Cty : 12, 평균 연비 : 15.0\n",
      "연비 2위 -> 제조사 : land rover, 모델 : range rover, 생산년도 : 2008, 엔진 : auto(s6), 종류: suv, Hwy : 18, Cty : 12, 평균 연비 : 15.0\n",
      "연비 3위 -> 제조사 : land rover, 모델 : range rover, 생산년도 : 1999, 엔진 : auto(l4), 종류: suv, Hwy : 15, Cty : 11, 평균 연비 : 13.0\n",
      "연비 4위 -> 제조사 : land rover, 모델 : range rover, 생산년도 : 1999, 엔진 : auto(l4), 종류: suv, Hwy : 15, Cty : 11, 평균 연비 : 13.0\n",
      "-----------------------------------------------------------------\n",
      "nissan\n",
      "연비 1위 -> 제조사 : nissan, 모델 : pathfinder 4wd, 생산년도 : 2008, 엔진 : auto(l5), 종류: suv, Hwy : 20, Cty : 14, 평균 연비 : 17.0\n",
      "연비 2위 -> 제조사 : nissan, 모델 : pathfinder 4wd, 생산년도 : 1999, 엔진 : manual(m5), 종류: suv, Hwy : 17, Cty : 15, 평균 연비 : 16.0\n",
      "연비 3위 -> 제조사 : nissan, 모델 : pathfinder 4wd, 생산년도 : 1999, 엔진 : auto(l4), 종류: suv, Hwy : 17, Cty : 14, 평균 연비 : 15.5\n",
      "연비 4위 -> 제조사 : nissan, 모델 : pathfinder 4wd, 생산년도 : 2008, 엔진 : auto(s5), 종류: suv, Hwy : 18, Cty : 12, 평균 연비 : 15.0\n",
      "-----------------------------------------------------------------\n",
      "audi\n",
      "부합하는 모델이 없음\n",
      "-----------------------------------------------------------------\n"
     ]
    }
   ],
   "source": [
    "# 5. mpg 데이터는 연비를 나타내는 변수가 2개입니다. \n",
    "# 두 변수를 각각 활용하는 대신 하나의 통합 연비 변수를 만들어 사용하려 합니다. \n",
    "# 평균 연비 변수는 두 연비(고속도로와 도시)의 평균을 이용합니다. \n",
    "# 회사별로 \"suv\" 자동차의 평균 연비를 구한후 내림차순으로 정렬한 후 1~5위까지 데이터를 출력하세요.\n",
    "\n",
    "suv = []\n",
    "car_maf = set()\n",
    "for car in cars:\n",
    "    car_maf.add(car.getMaf())\n",
    "    if car.getClas() == 'suv':\n",
    "        suv.append(car)\n",
    "\n",
    "for maf in car_maf:\n",
    "    c = []\n",
    "    for car in suv:\n",
    "        if car.getMaf() == maf:\n",
    "            c.append(car)\n",
    "    c = sorted(c, key = lambda car: car.avgy, reverse=True) # 내림차순\n",
    "    print(maf)\n",
    "    print_carInfo(c)\n"
   ]
  },
  {
   "cell_type": "code",
   "execution_count": 9,
   "metadata": {},
   "outputs": [
    {
     "name": "stdout",
     "output_type": "stream",
     "text": [
      "pickup\n",
      "연비 1위 -> 제조사 : toyota, 모델 : toyota tacoma 4wd, 생산년도 : 2008, 엔진 : manual(m5), 종류: pickup, Hwy : 22, Cty : 17, 평균 연비 : 19.5\n",
      "연비 2위 -> 제조사 : toyota, 모델 : toyota tacoma 4wd, 생산년도 : 1999, 엔진 : auto(l4), 종류: pickup, Hwy : 20, Cty : 16, 평균 연비 : 18.0\n",
      "연비 3위 -> 제조사 : toyota, 모델 : toyota tacoma 4wd, 생산년도 : 2008, 엔진 : auto(l5), 종류: pickup, Hwy : 20, Cty : 16, 평균 연비 : 18.0\n",
      "연비 4위 -> 제조사 : dodge, 모델 : dakota pickup 4wd, 생산년도 : 2008, 엔진 : manual(m6), 종류: pickup, Hwy : 19, Cty : 15, 평균 연비 : 17.0\n",
      "연비 5위 -> 제조사 : toyota, 모델 : toyota tacoma 4wd, 생산년도 : 1999, 엔진 : manual(m5), 종류: pickup, Hwy : 20, Cty : 15, 평균 연비 : 17.5\n",
      "-----------------------------------------------------------------\n",
      "suv\n",
      "연비 1위 -> 제조사 : subaru, 모델 : forester awd, 생산년도 : 2008, 엔진 : manual(m5), 종류: suv, Hwy : 27, Cty : 20, 평균 연비 : 23.5\n",
      "연비 2위 -> 제조사 : subaru, 모델 : forester awd, 생산년도 : 2008, 엔진 : auto(l4), 종류: suv, Hwy : 26, Cty : 20, 평균 연비 : 23.0\n",
      "연비 3위 -> 제조사 : subaru, 모델 : forester awd, 생산년도 : 2008, 엔진 : manual(m5), 종류: suv, Hwy : 25, Cty : 19, 평균 연비 : 22.0\n",
      "연비 4위 -> 제조사 : subaru, 모델 : forester awd, 생산년도 : 1999, 엔진 : manual(m5), 종류: suv, Hwy : 25, Cty : 18, 평균 연비 : 21.5\n",
      "연비 5위 -> 제조사 : subaru, 모델 : forester awd, 생산년도 : 1999, 엔진 : auto(l4), 종류: suv, Hwy : 24, Cty : 18, 평균 연비 : 21.0\n",
      "-----------------------------------------------------------------\n",
      "subcompact\n",
      "연비 1위 -> 제조사 : volkswagen, 모델 : new beetle, 생산년도 : 1999, 엔진 : manual(m5), 종류: subcompact, Hwy : 44, Cty : 35, 평균 연비 : 39.5\n",
      "연비 2위 -> 제조사 : volkswagen, 모델 : new beetle, 생산년도 : 1999, 엔진 : auto(l4), 종류: subcompact, Hwy : 41, Cty : 29, 평균 연비 : 35.0\n",
      "연비 3위 -> 제조사 : honda, 모델 : civic, 생산년도 : 1999, 엔진 : manual(m5), 종류: subcompact, Hwy : 33, Cty : 28, 평균 연비 : 30.5\n",
      "연비 4위 -> 제조사 : honda, 모델 : civic, 생산년도 : 2008, 엔진 : manual(m5), 종류: subcompact, Hwy : 34, Cty : 26, 평균 연비 : 30.0\n",
      "연비 5위 -> 제조사 : honda, 모델 : civic, 생산년도 : 1999, 엔진 : manual(m5), 종류: subcompact, Hwy : 32, Cty : 25, 평균 연비 : 28.5\n",
      "-----------------------------------------------------------------\n",
      "midsize\n",
      "연비 1위 -> 제조사 : nissan, 모델 : altima, 생산년도 : 2008, 엔진 : auto(av), 종류: midsize, Hwy : 31, Cty : 23, 평균 연비 : 27.0\n",
      "연비 2위 -> 제조사 : nissan, 모델 : altima, 생산년도 : 2008, 엔진 : manual(m6), 종류: midsize, Hwy : 32, Cty : 23, 평균 연비 : 27.5\n",
      "연비 3위 -> 제조사 : chevrolet, 모델 : malibu, 생산년도 : 2008, 엔진 : auto(l4), 종류: midsize, Hwy : 30, Cty : 22, 평균 연비 : 26.0\n",
      "연비 4위 -> 제조사 : hyundai, 모델 : sonata, 생산년도 : 2008, 엔진 : auto(l4), 종류: midsize, Hwy : 30, Cty : 21, 평균 연비 : 25.5\n",
      "연비 5위 -> 제조사 : hyundai, 모델 : sonata, 생산년도 : 2008, 엔진 : manual(m5), 종류: midsize, Hwy : 31, Cty : 21, 평균 연비 : 26.0\n",
      "-----------------------------------------------------------------\n",
      "2seater\n",
      "연비 1위 -> 제조사 : chevrolet, 모델 : corvette, 생산년도 : 1999, 엔진 : manual(m6), 종류: 2seater, Hwy : 26, Cty : 16, 평균 연비 : 21.0\n",
      "연비 2위 -> 제조사 : chevrolet, 모델 : corvette, 생산년도 : 2008, 엔진 : manual(m6), 종류: 2seater, Hwy : 26, Cty : 16, 평균 연비 : 21.0\n",
      "연비 3위 -> 제조사 : chevrolet, 모델 : corvette, 생산년도 : 1999, 엔진 : auto(l4), 종류: 2seater, Hwy : 23, Cty : 15, 평균 연비 : 19.0\n",
      "연비 4위 -> 제조사 : chevrolet, 모델 : corvette, 생산년도 : 2008, 엔진 : auto(s6), 종류: 2seater, Hwy : 25, Cty : 15, 평균 연비 : 20.0\n",
      "연비 5위 -> 제조사 : chevrolet, 모델 : corvette, 생산년도 : 2008, 엔진 : manual(m6), 종류: 2seater, Hwy : 24, Cty : 15, 평균 연비 : 19.5\n",
      "-----------------------------------------------------------------\n",
      "compact\n",
      "연비 1위 -> 제조사 : volkswagen, 모델 : jetta, 생산년도 : 1999, 엔진 : manual(m5), 종류: compact, Hwy : 44, Cty : 33, 평균 연비 : 38.5\n",
      "연비 2위 -> 제조사 : toyota, 모델 : corolla, 생산년도 : 2008, 엔진 : manual(m5), 종류: compact, Hwy : 37, Cty : 28, 평균 연비 : 32.5\n",
      "연비 3위 -> 제조사 : toyota, 모델 : corolla, 생산년도 : 1999, 엔진 : manual(m5), 종류: compact, Hwy : 35, Cty : 26, 평균 연비 : 30.5\n",
      "연비 4위 -> 제조사 : toyota, 모델 : corolla, 생산년도 : 2008, 엔진 : auto(l4), 종류: compact, Hwy : 35, Cty : 26, 평균 연비 : 30.5\n",
      "연비 5위 -> 제조사 : toyota, 모델 : corolla, 생산년도 : 1999, 엔진 : auto(l3), 종류: compact, Hwy : 30, Cty : 24, 평균 연비 : 27.0\n",
      "-----------------------------------------------------------------\n",
      "minivan\n",
      "연비 1위 -> 제조사 : dodge, 모델 : caravan 2wd, 생산년도 : 1999, 엔진 : auto(l3), 종류: minivan, Hwy : 24, Cty : 18, 평균 연비 : 21.0\n",
      "연비 2위 -> 제조사 : dodge, 모델 : caravan 2wd, 생산년도 : 1999, 엔진 : auto(l4), 종류: minivan, Hwy : 24, Cty : 17, 평균 연비 : 20.5\n",
      "연비 3위 -> 제조사 : dodge, 모델 : caravan 2wd, 생산년도 : 2008, 엔진 : auto(l4), 종류: minivan, Hwy : 24, Cty : 17, 평균 연비 : 20.5\n",
      "연비 4위 -> 제조사 : dodge, 모델 : caravan 2wd, 생산년도 : 2008, 엔진 : auto(l4), 종류: minivan, Hwy : 24, Cty : 17, 평균 연비 : 20.5\n",
      "연비 5위 -> 제조사 : dodge, 모델 : caravan 2wd, 생산년도 : 1999, 엔진 : auto(l4), 종류: minivan, Hwy : 22, Cty : 16, 평균 연비 : 19.0\n",
      "-----------------------------------------------------------------\n"
     ]
    }
   ],
   "source": [
    "# 6. mpg 데이터의 class는 \"suv\", \"compact\" 등 자동차의 특징에 따라 \n",
    "# 일곱 종류로 분류한 변수입니다. 어떤 차종의 도시 연비가 높은지 비교하려 합니다. \n",
    "# class별 cty 평균을 구하고 cty 평균이 높은 순으로 정렬해 출력하세요.\n",
    "\n",
    "car_clas = set()\n",
    "for car in cars:\n",
    "    car_clas.add(car.getClas())\n",
    "\n",
    "for clas in car_clas:\n",
    "    c = []\n",
    "    for car in cars:\n",
    "        if car.getClas() == clas:\n",
    "            c.append(car)\n",
    "    c = sorted(c, key = lambda car: car.cty, reverse=True) # 내림차순\n",
    "    print(clas)\n",
    "    print_carInfo(c)\n"
   ]
  },
  {
   "cell_type": "code",
   "execution_count": 19,
   "metadata": {},
   "outputs": [
    {
     "name": "stdout",
     "output_type": "stream",
     "text": [
      "1위 -> honda : 32.55555555555556\n",
      "2위 -> volkswagen : 29.22222222222222\n",
      "3위 -> hyundai : 26.857142857142858\n"
     ]
    }
   ],
   "source": [
    "# 7. 어떤 회사 자동차의 hwy(고속도로 연비)가 가장 높은지 알아보려 합니다. \n",
    "# hwy(고속도로 연비) 평균이 가장 높은 회사 세 곳을 출력하세요.\n",
    "\n",
    "car_maf = set()\n",
    "for car in cars:\n",
    "    car_maf.add(car.getMaf())\n",
    "\n",
    "mafAvgHwy = dict()\n",
    "    \n",
    "for maf in car_maf:\n",
    "    hwySum = 0\n",
    "    cnt = 0\n",
    "    for car in cars:\n",
    "        if car.getMaf() == maf:\n",
    "            hwySum += car.getHwy()\n",
    "            cnt += 1\n",
    "    mafAvgHwy[maf] = hwySum / cnt\n",
    "\n",
    "mafAvgHwy = sorted(mafAvgHwy.items(), key = lambda x : x[1], reverse = True)\n",
    "\n",
    "cnt = 0\n",
    "for mah in mafAvgHwy:\n",
    "    cnt += 1\n",
    "    if cnt == 4:\n",
    "        break\n",
    "    else:\n",
    "        print(str(cnt) + \"위 -> \" + mah[0] + \" : \" + str(mah[1]))\n",
    "    \n"
   ]
  },
  {
   "cell_type": "code",
   "execution_count": 21,
   "metadata": {},
   "outputs": [
    {
     "name": "stdout",
     "output_type": "stream",
     "text": [
      "audi : 15\n",
      "volkswagen : 14\n",
      "toyota : 12\n",
      "subaru : 4\n",
      "nissan : 2\n",
      "mercury : 0\n",
      "jeep : 0\n",
      "chevrolet : 0\n",
      "honda : 0\n",
      "ford : 0\n",
      "dodge : 0\n",
      "lincoln : 0\n",
      "pontiac : 0\n",
      "hyundai : 0\n",
      "land rover : 0\n"
     ]
    }
   ],
   "source": [
    "# 8. 어떤 회사에서 \"compact\" 차종을 가장 많이 생산하는지 알아보려고 합니다. \n",
    "# 각 회사별 \"compact\" 차종 수를 내림차순으로 정렬해 출력하세요.\n",
    "\n",
    "compact = []\n",
    "car_maf = set()\n",
    "for car in cars:\n",
    "    car_maf.add(car.getMaf())\n",
    "    if car.getClas() == 'compact':\n",
    "        compact.append(car)\n",
    "\n",
    "CampactCnt = dict()\n",
    "    \n",
    "for maf in car_maf:\n",
    "    cnt = 0\n",
    "    for car in compact:\n",
    "        if car.getMaf() == maf:\n",
    "            cnt += 1\n",
    "    CampactCnt[maf] = cnt\n",
    "    \n",
    "CampactCnt = sorted(CampactCnt.items(), key = lambda x : x[1], reverse = True)\n",
    "for cc in CampactCnt:\n",
    "    print(cc[0] + \" : \" + str(cc[1]))\n",
    "    "
   ]
  },
  {
   "cell_type": "code",
   "execution_count": 5,
   "metadata": {},
   "outputs": [
    {
     "name": "stdout",
     "output_type": "stream",
     "text": [
      "6\n",
      "6\n"
     ]
    }
   ],
   "source": [
    "import numpy as np\n",
    "\n",
    "#ndarray 안에 10보다 큰 수가 몇개 있는지 알아보려면 어떻게 해야 하는가?\n",
    "\n",
    "arr = np.array([[1,2,3,4],\n",
    "                [5,6,7,8],\n",
    "                [9,10,11,12],\n",
    "                [13,14,15,16]])\n",
    "\n",
    "cnt = 0\n",
    "it = np.nditer(arr, flags=['multi_index'])\n",
    "while not it.finished:\n",
    "    idx = it.multi_index\n",
    "    if(arr[idx[0]][idx[1]]) > 10:\n",
    "        cnt += 1\n",
    "    it.iternext()\n",
    "\n",
    "print(cnt)\n",
    "\n",
    "# 간략히\n",
    "print((arr > 10).sum()) "
   ]
  }
 ],
 "metadata": {
  "kernelspec": {
   "display_name": "Python 3",
   "language": "python",
   "name": "python3"
  },
  "language_info": {
   "codemirror_mode": {
    "name": "ipython",
    "version": 3
   },
   "file_extension": ".py",
   "mimetype": "text/x-python",
   "name": "python",
   "nbconvert_exporter": "python",
   "pygments_lexer": "ipython3",
   "version": "3.7.6"
  }
 },
 "nbformat": 4,
 "nbformat_minor": 4
}
