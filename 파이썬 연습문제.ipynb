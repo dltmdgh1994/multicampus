{
 "cells": [
  {
   "cell_type": "code",
   "execution_count": 6,
   "metadata": {},
   "outputs": [
    {
     "name": "stdout",
     "output_type": "stream",
     "text": [
      "233168\n"
     ]
    }
   ],
   "source": [
    "## 문제 1.\n",
    "## 10보다 작은 자연수 중에서 3 또는 5의 배수는\n",
    "## 3,5,6,9가 존재해요! 이것들의 합은 23입니다.\n",
    "\n",
    "## 1000보다 작은 자연수 중에서 3 또는 5의 배수들을\n",
    "## 구해서 모두 합하면 얼마인가요?\n",
    "\n",
    "a = range(3, 1000, 3)\n",
    "b = range(5, 1000, 5)\n",
    "c = range(15, 1000, 15)\n",
    "\n",
    "sum = 0\n",
    "\n",
    "for i in a:\n",
    "    sum += i\n",
    "\n",
    "for i in b:\n",
    "    sum += i\n",
    "\n",
    "for i in c:\n",
    "    sum -= i\n",
    "    \n",
    "print(sum)"
   ]
  },
  {
   "cell_type": "code",
   "execution_count": 8,
   "metadata": {},
   "outputs": [
    {
     "name": "stdout",
     "output_type": "stream",
     "text": [
      "4613732\n"
     ]
    }
   ],
   "source": [
    "## 문제 2.\n",
    "## 피보나치 수열의 각 항은 바로 앞의 항 두 개를 더한 것이 됩니다. \n",
    "## 1과 2로 시작하는 경우 이 수열은 아래와 같습니다.\n",
    "\n",
    "## 1, 2, 3, 5, 8, 13, 21, 34, 55, 89, ...\n",
    "## 짝수이면서 4백만 이하인 모든 항을 더하면 얼마가 됩니까?\n",
    "\n",
    "pivo = [1,2]\n",
    "\n",
    "while pivo[-1] <= 4000000:\n",
    "    pivo.append(pivo[-1]+pivo[-2])\n",
    "\n",
    "sum = 0\n",
    "    \n",
    "for i in pivo:\n",
    "    if(i%2 == 0):\n",
    "        sum += i\n",
    "        \n",
    "print(sum)"
   ]
  },
  {
   "cell_type": "code",
   "execution_count": 12,
   "metadata": {},
   "outputs": [
    {
     "name": "stdout",
     "output_type": "stream",
     "text": [
      "I\n",
      "C\n"
     ]
    }
   ],
   "source": [
    "## 문제 3.\n",
    "## 알파벳 대소문자로 된 문자열이 주어지면, \n",
    "## 이 문자열에서 가장 많이 사용된 알파벳이 \n",
    "## 무엇인지 출력하는 프로그램을 작성하시오. \n",
    "## 단, 대소문자는 구별하지 않아요. 만약 동률이 존재하는 경우 \n",
    "## 알파벳 순으로 제일 앞에 있는\n",
    "## 문자를 출력하세요.\n",
    "\n",
    "str1 = \"This is a sample Program mississippi river\"\n",
    "str2 = \"abcdabcdababccddcd\"\n",
    "\n",
    "def printLot(s):\n",
    "    string = s.lower()\n",
    "    string = string.replace(\" \",\"\")\n",
    "    dic = {}\n",
    "    for s in string:\n",
    "        if(s in dic):\n",
    "            dic[s] += 1\n",
    "        else:\n",
    "            dic[s] = 1\n",
    "    \n",
    "    maximum = 0\n",
    "    k = \"\"\n",
    "    for key, val in dic.items():\n",
    "        if val > maximum:\n",
    "            maximum = val\n",
    "            k = key\n",
    "    \n",
    "    print(k.upper())\n",
    "\n",
    "printLot(str1)\n",
    "printLot(str2)"
   ]
  },
  {
   "cell_type": "code",
   "execution_count": 52,
   "metadata": {},
   "outputs": [
    {
     "name": "stdout",
     "output_type": "stream",
     "text": [
      "꽝 5개\n"
     ]
    }
   ],
   "source": [
    "## 문제 4.\n",
    "## 로또 프로그램 작성 \n",
    "## 5000원으로 로또복권을 5장 자동으로 구매합니다. \n",
    "## 이번 주 로또 당첨번호를 생성하여 로또 당첨을 확인하세요!\n",
    "## 쉬운버전으로 먼저 작성합니다.  \n",
    "## 6숫자가 다 맞으면 1등, 5개 맞으면 2등으로 처리합니다.\n",
    "## 즉, 쉬운버전은 보너스 숫자는 없는 것으로 간주합니다.\n",
    "## 쉬운버전을 해결했다면 \n",
    "## 보너스 숫자를 이용하여 로또 당첨을 확인합니다.\n",
    "## 보너스 숫자를 제외한 모든 숫자가 다 맞으면 1등,\n",
    "## 보너스 숫자를 포함하여 6개의 숫자가 맞으면 2등,\n",
    "## 보너스를 제외하고 5개의 숫자가 맞으면 3등으로 처리합니다.\n",
    "\n",
    "## 쉬운버전의 출력은 1등 몇개, 2등 몇개, 3등 몇개, \n",
    "## 4등 몇개, 꽝 몇개로 출력\n",
    "## 어려운버전의 출력은 1등 몇개, 2등 몇개, 3등 몇개, \n",
    "## 4등 몇개, 5등 몇개, 꽝 몇개로 출력\n",
    "\n",
    "## 랜덤값을 도출하기 위해서는 다음의 코드를 이용한다.\n",
    "import random\n",
    " \n",
    "i = random.randint(1, 100)  # 1부터 100 사이의 임의의 정수 \n",
    "f = random.random()   # 0부터 1 사이의 임의의 float\n",
    "i = random.randrange(1, 101, 2) # 1부터 100 사이의 임의의 짝수\n",
    "i = random.randrange(10)  # 0부터 9 사이의 임의의 정수\n",
    "\n",
    "\n",
    "#쉬운버전\n",
    "\n",
    "My = [] #뽑은 번호\n",
    "Lotto = [] #당첨 번호\n",
    "\n",
    "for i in range(1,6):\n",
    "    l = []\n",
    "    while True:\n",
    "        if len(l) == 6:\n",
    "            break\n",
    "        else:\n",
    "            m = random.randint(1,45)\n",
    "            if m not in l:\n",
    "                l.append(m)\n",
    "    l.sort()\n",
    "    My.append(l)\n",
    "            \n",
    "while True:\n",
    "    if len(Lotto) == 6:\n",
    "        break\n",
    "    else:\n",
    "        l = random.randint(1,45)\n",
    "        if l not in Lotto:\n",
    "            Lotto.append(l)\n",
    "            \n",
    "Lotto.sort()\n",
    "\n",
    "def checkLotto(My, Lotto):\n",
    "    result = [0, 0, 0, 0, 0]\n",
    "    \n",
    "    for m in My:\n",
    "        cnt = 0\n",
    "        for i in m:\n",
    "            if i in Lotto:\n",
    "                cnt += 1\n",
    "                \n",
    "        if(cnt == 6):\n",
    "            result[0] += 1\n",
    "        elif(cnt == 5):\n",
    "            result[1] += 1\n",
    "        elif(cnt == 4):\n",
    "            result[2] += 1\n",
    "        elif(cnt == 3):\n",
    "            result[3] += 1\n",
    "        else:\n",
    "            result[4] += 1\n",
    "    \n",
    "    return result\n",
    "\n",
    "def printResult(result):\n",
    "    if result[0] != 0:\n",
    "        print(\"1등 \"+str(result[0])+\"개\")\n",
    "    if result[1] != 0:\n",
    "        print(\"2등 \"+str(result[1])+\"개\")\n",
    "    if result[2] != 0:\n",
    "        print(\"3등 \"+str(result[2])+\"개\")\n",
    "    if result[3] != 0:\n",
    "        print(\"4등 \"+str(result[3])+\"개\")\n",
    "    if result[4] != 0:\n",
    "        print(\"꽝 \"+str(result[4])+\"개\")\n",
    "\n",
    "result = checkLotto(My, Lotto)\n",
    "printResult(result)\n"
   ]
  },
  {
   "cell_type": "code",
   "execution_count": 54,
   "metadata": {},
   "outputs": [
    {
     "name": "stdout",
     "output_type": "stream",
     "text": [
      "꽝 5개\n"
     ]
    }
   ],
   "source": [
    "#어려운 버전\n",
    "\n",
    "My = [] #뽑은 번호\n",
    "Lotto = [] #당첨 번호\n",
    "Bonus = 0 #보너스 번호\n",
    "\n",
    "for i in range(1,6):\n",
    "    l = []\n",
    "    while True:\n",
    "        if len(l) == 6:\n",
    "            break\n",
    "        else:\n",
    "            m = random.randint(1,45)\n",
    "            if m not in l:\n",
    "                l.append(m)\n",
    "    l.sort()\n",
    "    My.append(l)\n",
    "            \n",
    "while True:\n",
    "    if len(Lotto) == 7:\n",
    "        break\n",
    "    else:\n",
    "        l = random.randint(1,45)\n",
    "        if l not in Lotto:\n",
    "            Lotto.append(l)\n",
    "            \n",
    "Bonus = Lotto[6]\n",
    "Lotto = Lotto[0:5]\n",
    "Lotto.sort()\n",
    "\n",
    "def checkLotto(My, Lotto):\n",
    "    result = [0, 0, 0, 0, 0, 0]\n",
    "    \n",
    "    for m in My:\n",
    "        cnt = 0\n",
    "        B = 0\n",
    "        for i in m:\n",
    "            if i in Lotto:\n",
    "                cnt += 1\n",
    "        \n",
    "        if Bonus in m:\n",
    "            B += 1\n",
    "                \n",
    "        if(cnt == 6):\n",
    "            result[0] += 1\n",
    "        elif(cnt == 5 and B == 1):\n",
    "            result[1] += 1\n",
    "        elif(cnt == 5):\n",
    "            result[2] += 1\n",
    "        elif(cnt == 4):\n",
    "            result[3] += 1\n",
    "        elif(cnt == 3):\n",
    "            result[4] += 1    \n",
    "        else:\n",
    "            result[5] += 1\n",
    "    \n",
    "    return result\n",
    "\n",
    "def printResult(result):\n",
    "    if result[0] != 0:\n",
    "        print(\"1등 \"+str(result[0])+\"개\")\n",
    "    if result[1] != 0:\n",
    "        print(\"2등 \"+str(result[1])+\"개\")\n",
    "    if result[2] != 0:\n",
    "        print(\"3등 \"+str(result[2])+\"개\")\n",
    "    if result[3] != 0:\n",
    "        print(\"4등 \"+str(result[3])+\"개\")\n",
    "    if result[4] != 0:\n",
    "        print(\"5등 \"+str(result[4])+\"개\")\n",
    "    if result[5] != 0:\n",
    "        print(\"꽝 \"+str(result[5])+\"개\")\n",
    "\n",
    "result = checkLotto(My, Lotto)\n",
    "printResult(result)\n"
   ]
  },
  {
   "cell_type": "code",
   "execution_count": 57,
   "metadata": {},
   "outputs": [
    {
     "name": "stdout",
     "output_type": "stream",
     "text": [
      "8145060000원\n"
     ]
    }
   ],
   "source": [
    "##### 추가문제\n",
    "##### 1등에 당첨될려면 평균적으로 얼마만큼의 돈을 투자해야 할까요?\n",
    "##### 로또 1게임은 1000원입니다.\n",
    "\n",
    "## 로또에 당첨될 확률은 1/8145060\n",
    "## 따라서 평균적으로 투자해야할 돈은\n",
    "print(\"{}원\".format(8145060*1000))"
   ]
  },
  {
   "cell_type": "code",
   "execution_count": 80,
   "metadata": {},
   "outputs": [
    {
     "name": "stdout",
     "output_type": "stream",
     "text": [
      "6857\n"
     ]
    }
   ],
   "source": [
    "## 문제 5.\n",
    "## 어떤 수를 소수의 곱으로만 나타내는 것을 소인수분해라 하고, \n",
    "## 이 소수들을 그 수의 소인수라고 합니다.\n",
    "## 예를 들면 13195의 소인수는 5, 7, 13, 29 입니다.\n",
    "\n",
    "## 600851475143의 소인수 중에서 가장 큰 수를 구하세요.\n",
    "prime = []\n",
    "num = 600851475143\n",
    "for i in range(2,int((num+1)**0.5)):\n",
    "    while num % i == 0:\n",
    "        prime.append(i)\n",
    "        num = num/i\n",
    "\n",
    "prime.sort()\n",
    "print(prime[-1])"
   ]
  },
  {
   "cell_type": "code",
   "execution_count": 69,
   "metadata": {},
   "outputs": [
    {
     "name": "stdout",
     "output_type": "stream",
     "text": [
      "906609\n"
     ]
    }
   ],
   "source": [
    "## 문제 6.\n",
    "## 앞에서부터 읽을 때나 뒤에서부터 읽을 때나 모양이 \n",
    "## 같은 수를 대칭수(palindrome)라고 부릅니다.\n",
    "\n",
    "## 두 자리 수를 곱해 만들 수 있는 대칭수 중 \n",
    "## 가장 큰 수는 9009 (= 91 × 99) 입니다.\n",
    "\n",
    "## 세 자리 수를 곱해 만들 수 있는 가장 큰 대칭수를 구하세요\n",
    "\n",
    "palindrome = []\n",
    "\n",
    "for i in range(100,1000):\n",
    "    for j in range(100,1000):\n",
    "        num = i*j\n",
    "        if num == int(str(num)[::-1]):\n",
    "            palindrome.append(num)\n",
    "            \n",
    "palindrome.sort()\n",
    "print(palindrome[-1])"
   ]
  },
  {
   "cell_type": "code",
   "execution_count": 76,
   "metadata": {},
   "outputs": [
    {
     "name": "stdout",
     "output_type": "stream",
     "text": [
      "232792560\n"
     ]
    }
   ],
   "source": [
    "## 문제 7.\n",
    "## 1 ~ 10 사이의 어떤 수로도 나누어 떨어지는 가장 작은 수는 2520입니다.\n",
    "   \n",
    "## 그러면 1 ~ 20 사이의 어떤 수로도 나누어 떨어지는 가장 작은 수는 얼마입니까?\n",
    "n = range(1,21)\n",
    "num = 20\n",
    "\n",
    "while True:\n",
    "    flag = True\n",
    "    for i in n:\n",
    "        if num % i != 0:\n",
    "            num += 20\n",
    "            flag = False\n",
    "            break\n",
    "    \n",
    "    if flag == True:\n",
    "        break\n",
    "\n",
    "print(num)\n",
    "        "
   ]
  },
  {
   "cell_type": "code",
   "execution_count": 79,
   "metadata": {},
   "outputs": [
    {
     "name": "stdout",
     "output_type": "stream",
     "text": [
      "25164150\n"
     ]
    }
   ],
   "source": [
    "## 문제 8.\n",
    "## 1부터 10까지 자연수를 각각 제곱해 더하면 다음과 같습니다 (제곱의 합).\n",
    "## 1**2 + 2**2 + ... + 10**2 = 385\n",
    "\n",
    "## 1부터 10을 먼저 더한 다음에 그 결과를 제곱하면 다음과 같습니다 (합의 제곱).\n",
    "## (1 + 2 + ... + 10)**2 = 552 = 3025\n",
    "\n",
    "## 따라서 1부터 10까지 자연수에 대해 \"합의 제곱\"과 \"제곱의 합\" 의 \n",
    "## 차이는 3025 - 385 = 2640 이 됩니다.\n",
    "\n",
    "## 그러면 1부터 100까지 자연수에 대해 \"합의 제곱\"과 \"제곱의 합\"의 차이는 \n",
    "## 얼마입니까?\n",
    "\n",
    "sum = 0\n",
    "sqrtsum = 0\n",
    "\n",
    "for i in range(1,101):\n",
    "    sum += i\n",
    "    sqrtsum += i**2\n",
    "\n",
    "print(sum**2 - sqrtsum)"
   ]
  },
  {
   "cell_type": "code",
   "execution_count": 102,
   "metadata": {},
   "outputs": [
    {
     "name": "stdout",
     "output_type": "stream",
     "text": [
      "104743\n"
     ]
    }
   ],
   "source": [
    "## 문제 9.\n",
    "## 소수를 크기 순으로 나열하면 2, 3, 5, 7, 11, 13, ... 과 같이 됩니다.\n",
    "\n",
    "## 이 때 10,001번째의 소수를 구하세요.\n",
    "num = 4\n",
    "cnt = 2\n",
    "\n",
    "while True:   \n",
    "    flag = False\n",
    "    for i in range(2,int((num)**0.5)+1):\n",
    "        if(num % i == 0):\n",
    "            flag = True\n",
    "            break\n",
    "    \n",
    "    if flag == False:\n",
    "        cnt += 1\n",
    "        if cnt == 10001:\n",
    "            print(num)\n",
    "            break\n",
    "        num += 1\n",
    "    else:\n",
    "        num += 1    "
   ]
  },
  {
   "cell_type": "code",
   "execution_count": 103,
   "metadata": {},
   "outputs": [
    {
     "name": "stdout",
     "output_type": "stream",
     "text": [
      "31875000\n"
     ]
    }
   ],
   "source": [
    "## 문제 10.\n",
    "## 세 자연수 a, b, c 가 피타고라스 정리 a**2 + b**2 = c**2 를 만족하면 \n",
    "## 피타고라스 수라고 부릅니다 (여기서 a < b < c ).\n",
    "## 예를 들면 3**2 + 4**2 = 9 + 16 = 25 = 5**2이므로 \n",
    "## 3, 4, 5는 피타고라스 수입니다.\n",
    "\n",
    "## a + b + c = 1000 인 피타고라스 수 a, b, c는 한 가지 뿐입니다. \n",
    "## 이 때, a × b × c 는 얼마입니까?\n",
    "\n",
    "for a in range(1, 350):\n",
    "    for b in range(a+1, 500):\n",
    "        c = 1000 - a - b\n",
    "        if (a*a + b*b == c*c) and c > b:\n",
    "            print(a*b*c)"
   ]
  }
 ],
 "metadata": {
  "kernelspec": {
   "display_name": "Python 3",
   "language": "python",
   "name": "python3"
  },
  "language_info": {
   "codemirror_mode": {
    "name": "ipython",
    "version": 3
   },
   "file_extension": ".py",
   "mimetype": "text/x-python",
   "name": "python",
   "nbconvert_exporter": "python",
   "pygments_lexer": "ipython3",
   "version": "3.7.6"
  }
 },
 "nbformat": 4,
 "nbformat_minor": 4
}
